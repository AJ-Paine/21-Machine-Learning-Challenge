{
 "cells": [
  {
   "cell_type": "code",
   "execution_count": 1,
   "metadata": {},
   "outputs": [
    {
     "name": "stdout",
     "output_type": "stream",
     "text": [
      "Requirement already up-to-date: sklearn in c:\\users\\10pai\\anaconda3\\lib\\site-packages (0.0)\n",
      "Requirement already satisfied, skipping upgrade: scikit-learn in c:\\users\\10pai\\anaconda3\\lib\\site-packages (from sklearn) (0.23.2)\n",
      "Requirement already satisfied, skipping upgrade: threadpoolctl>=2.0.0 in c:\\users\\10pai\\anaconda3\\lib\\site-packages (from scikit-learn->sklearn) (2.1.0)\n",
      "Requirement already satisfied, skipping upgrade: joblib>=0.11 in c:\\users\\10pai\\anaconda3\\lib\\site-packages (from scikit-learn->sklearn) (0.17.0)\n",
      "Requirement already satisfied, skipping upgrade: numpy>=1.13.3 in c:\\users\\10pai\\anaconda3\\lib\\site-packages (from scikit-learn->sklearn) (1.19.2)\n",
      "Requirement already satisfied, skipping upgrade: scipy>=0.19.1 in c:\\users\\10pai\\anaconda3\\lib\\site-packages (from scikit-learn->sklearn) (1.5.2)\n"
     ]
    }
   ],
   "source": [
    "# Update sklearn to prevent version mismatches\n",
    "!pip install sklearn --upgrade"
   ]
  },
  {
   "cell_type": "code",
   "execution_count": 2,
   "metadata": {},
   "outputs": [
    {
     "name": "stdout",
     "output_type": "stream",
     "text": [
      "Requirement already satisfied: joblib in c:\\users\\10pai\\anaconda3\\lib\\site-packages (0.17.0)\n"
     ]
    }
   ],
   "source": [
    "# install joblib. This will be used to save your model. \n",
    "# Restart your kernel after installing \n",
    "!pip install joblib"
   ]
  },
  {
   "cell_type": "code",
   "execution_count": 3,
   "metadata": {},
   "outputs": [],
   "source": [
    "import matplotlib.pyplot as plt\n",
    "from sklearn.neighbors import KNeighborsClassifier\n",
    "import pandas as pd\n",
    "import os"
   ]
  },
  {
   "cell_type": "markdown",
   "metadata": {},
   "source": [
    "# Read the CSV and Perform Basic Data Cleaning"
   ]
  },
  {
   "cell_type": "code",
   "execution_count": 4,
   "metadata": {},
   "outputs": [
    {
     "data": {
      "text/html": [
       "<div>\n",
       "<style scoped>\n",
       "    .dataframe tbody tr th:only-of-type {\n",
       "        vertical-align: middle;\n",
       "    }\n",
       "\n",
       "    .dataframe tbody tr th {\n",
       "        vertical-align: top;\n",
       "    }\n",
       "\n",
       "    .dataframe thead th {\n",
       "        text-align: right;\n",
       "    }\n",
       "</style>\n",
       "<table border=\"1\" class=\"dataframe\">\n",
       "  <thead>\n",
       "    <tr style=\"text-align: right;\">\n",
       "      <th></th>\n",
       "      <th>koi_disposition</th>\n",
       "      <th>koi_fpflag_nt</th>\n",
       "      <th>koi_fpflag_ss</th>\n",
       "      <th>koi_fpflag_co</th>\n",
       "      <th>koi_fpflag_ec</th>\n",
       "      <th>koi_period</th>\n",
       "      <th>koi_period_err1</th>\n",
       "      <th>koi_period_err2</th>\n",
       "      <th>koi_time0bk</th>\n",
       "      <th>koi_time0bk_err1</th>\n",
       "      <th>...</th>\n",
       "      <th>koi_steff_err2</th>\n",
       "      <th>koi_slogg</th>\n",
       "      <th>koi_slogg_err1</th>\n",
       "      <th>koi_slogg_err2</th>\n",
       "      <th>koi_srad</th>\n",
       "      <th>koi_srad_err1</th>\n",
       "      <th>koi_srad_err2</th>\n",
       "      <th>ra</th>\n",
       "      <th>dec</th>\n",
       "      <th>koi_kepmag</th>\n",
       "    </tr>\n",
       "  </thead>\n",
       "  <tbody>\n",
       "    <tr>\n",
       "      <th>0</th>\n",
       "      <td>CONFIRMED</td>\n",
       "      <td>0</td>\n",
       "      <td>0</td>\n",
       "      <td>0</td>\n",
       "      <td>0</td>\n",
       "      <td>54.418383</td>\n",
       "      <td>2.479000e-04</td>\n",
       "      <td>-2.479000e-04</td>\n",
       "      <td>162.513840</td>\n",
       "      <td>0.003520</td>\n",
       "      <td>...</td>\n",
       "      <td>-81</td>\n",
       "      <td>4.467</td>\n",
       "      <td>0.064</td>\n",
       "      <td>-0.096</td>\n",
       "      <td>0.927</td>\n",
       "      <td>0.105</td>\n",
       "      <td>-0.061</td>\n",
       "      <td>291.93423</td>\n",
       "      <td>48.141651</td>\n",
       "      <td>15.347</td>\n",
       "    </tr>\n",
       "    <tr>\n",
       "      <th>1</th>\n",
       "      <td>FALSE POSITIVE</td>\n",
       "      <td>0</td>\n",
       "      <td>1</td>\n",
       "      <td>0</td>\n",
       "      <td>0</td>\n",
       "      <td>19.899140</td>\n",
       "      <td>1.490000e-05</td>\n",
       "      <td>-1.490000e-05</td>\n",
       "      <td>175.850252</td>\n",
       "      <td>0.000581</td>\n",
       "      <td>...</td>\n",
       "      <td>-176</td>\n",
       "      <td>4.544</td>\n",
       "      <td>0.044</td>\n",
       "      <td>-0.176</td>\n",
       "      <td>0.868</td>\n",
       "      <td>0.233</td>\n",
       "      <td>-0.078</td>\n",
       "      <td>297.00482</td>\n",
       "      <td>48.134129</td>\n",
       "      <td>15.436</td>\n",
       "    </tr>\n",
       "    <tr>\n",
       "      <th>2</th>\n",
       "      <td>FALSE POSITIVE</td>\n",
       "      <td>0</td>\n",
       "      <td>1</td>\n",
       "      <td>0</td>\n",
       "      <td>0</td>\n",
       "      <td>1.736952</td>\n",
       "      <td>2.630000e-07</td>\n",
       "      <td>-2.630000e-07</td>\n",
       "      <td>170.307565</td>\n",
       "      <td>0.000115</td>\n",
       "      <td>...</td>\n",
       "      <td>-174</td>\n",
       "      <td>4.564</td>\n",
       "      <td>0.053</td>\n",
       "      <td>-0.168</td>\n",
       "      <td>0.791</td>\n",
       "      <td>0.201</td>\n",
       "      <td>-0.067</td>\n",
       "      <td>285.53461</td>\n",
       "      <td>48.285210</td>\n",
       "      <td>15.597</td>\n",
       "    </tr>\n",
       "    <tr>\n",
       "      <th>3</th>\n",
       "      <td>CONFIRMED</td>\n",
       "      <td>0</td>\n",
       "      <td>0</td>\n",
       "      <td>0</td>\n",
       "      <td>0</td>\n",
       "      <td>2.525592</td>\n",
       "      <td>3.760000e-06</td>\n",
       "      <td>-3.760000e-06</td>\n",
       "      <td>171.595550</td>\n",
       "      <td>0.001130</td>\n",
       "      <td>...</td>\n",
       "      <td>-211</td>\n",
       "      <td>4.438</td>\n",
       "      <td>0.070</td>\n",
       "      <td>-0.210</td>\n",
       "      <td>1.046</td>\n",
       "      <td>0.334</td>\n",
       "      <td>-0.133</td>\n",
       "      <td>288.75488</td>\n",
       "      <td>48.226200</td>\n",
       "      <td>15.509</td>\n",
       "    </tr>\n",
       "    <tr>\n",
       "      <th>4</th>\n",
       "      <td>CONFIRMED</td>\n",
       "      <td>0</td>\n",
       "      <td>0</td>\n",
       "      <td>0</td>\n",
       "      <td>0</td>\n",
       "      <td>4.134435</td>\n",
       "      <td>1.050000e-05</td>\n",
       "      <td>-1.050000e-05</td>\n",
       "      <td>172.979370</td>\n",
       "      <td>0.001900</td>\n",
       "      <td>...</td>\n",
       "      <td>-232</td>\n",
       "      <td>4.486</td>\n",
       "      <td>0.054</td>\n",
       "      <td>-0.229</td>\n",
       "      <td>0.972</td>\n",
       "      <td>0.315</td>\n",
       "      <td>-0.105</td>\n",
       "      <td>296.28613</td>\n",
       "      <td>48.224670</td>\n",
       "      <td>15.714</td>\n",
       "    </tr>\n",
       "  </tbody>\n",
       "</table>\n",
       "<p>5 rows × 41 columns</p>\n",
       "</div>"
      ],
      "text/plain": [
       "  koi_disposition  koi_fpflag_nt  koi_fpflag_ss  koi_fpflag_co  koi_fpflag_ec  \\\n",
       "0       CONFIRMED              0              0              0              0   \n",
       "1  FALSE POSITIVE              0              1              0              0   \n",
       "2  FALSE POSITIVE              0              1              0              0   \n",
       "3       CONFIRMED              0              0              0              0   \n",
       "4       CONFIRMED              0              0              0              0   \n",
       "\n",
       "   koi_period  koi_period_err1  koi_period_err2  koi_time0bk  \\\n",
       "0   54.418383     2.479000e-04    -2.479000e-04   162.513840   \n",
       "1   19.899140     1.490000e-05    -1.490000e-05   175.850252   \n",
       "2    1.736952     2.630000e-07    -2.630000e-07   170.307565   \n",
       "3    2.525592     3.760000e-06    -3.760000e-06   171.595550   \n",
       "4    4.134435     1.050000e-05    -1.050000e-05   172.979370   \n",
       "\n",
       "   koi_time0bk_err1  ...  koi_steff_err2  koi_slogg  koi_slogg_err1  \\\n",
       "0          0.003520  ...             -81      4.467           0.064   \n",
       "1          0.000581  ...            -176      4.544           0.044   \n",
       "2          0.000115  ...            -174      4.564           0.053   \n",
       "3          0.001130  ...            -211      4.438           0.070   \n",
       "4          0.001900  ...            -232      4.486           0.054   \n",
       "\n",
       "   koi_slogg_err2  koi_srad  koi_srad_err1  koi_srad_err2         ra  \\\n",
       "0          -0.096     0.927          0.105         -0.061  291.93423   \n",
       "1          -0.176     0.868          0.233         -0.078  297.00482   \n",
       "2          -0.168     0.791          0.201         -0.067  285.53461   \n",
       "3          -0.210     1.046          0.334         -0.133  288.75488   \n",
       "4          -0.229     0.972          0.315         -0.105  296.28613   \n",
       "\n",
       "         dec  koi_kepmag  \n",
       "0  48.141651      15.347  \n",
       "1  48.134129      15.436  \n",
       "2  48.285210      15.597  \n",
       "3  48.226200      15.509  \n",
       "4  48.224670      15.714  \n",
       "\n",
       "[5 rows x 41 columns]"
      ]
     },
     "execution_count": 4,
     "metadata": {},
     "output_type": "execute_result"
    }
   ],
   "source": [
    "df = pd.read_csv(\"../Data/exoplanet_data.csv\")\n",
    "# Drop the null columns where all values are null\n",
    "df = df.dropna(axis='columns', how='all')\n",
    "# Drop the null rows\n",
    "df = df.dropna()\n",
    "df.head()"
   ]
  },
  {
   "cell_type": "markdown",
   "metadata": {},
   "source": [
    "# Select your features (columns)"
   ]
  },
  {
   "cell_type": "code",
   "execution_count": 5,
   "metadata": {},
   "outputs": [],
   "source": [
    "# Set features. This will also be used as your x values.\n",
    "X = df[['koi_period', 'koi_impact', 'koi_duration', 'koi_prad', 'koi_teq', 'koi_steff', 'koi_slogg']]\n",
    "X_names = X.columns"
   ]
  },
  {
   "cell_type": "markdown",
   "metadata": {},
   "source": [
    "# Create a Train Test Split\n",
    "\n",
    "Use `koi_disposition` for the y values"
   ]
  },
  {
   "cell_type": "code",
   "execution_count": 6,
   "metadata": {},
   "outputs": [
    {
     "name": "stdout",
     "output_type": "stream",
     "text": [
      "['CANDIDATE' 'CONFIRMED' 'FALSE POSITIVE']\n"
     ]
    }
   ],
   "source": [
    "#Select column for dependent variable (y)\n",
    "y = df[\"koi_disposition\"]\n",
    "y_names = df.koi_disposition.unique()\n",
    "y_names.sort()\n",
    "print(y_names)"
   ]
  },
  {
   "cell_type": "code",
   "execution_count": 7,
   "metadata": {},
   "outputs": [
    {
     "name": "stdout",
     "output_type": "stream",
     "text": [
      "(6991, 7) (6991,)\n"
     ]
    }
   ],
   "source": [
    "#Split the data into train/test data sets\n",
    "from sklearn.model_selection import train_test_split\n",
    "X_train, X_test, y_train, y_test = train_test_split(X, y)\n",
    "print(X.shape, y.shape)"
   ]
  },
  {
   "cell_type": "code",
   "execution_count": 8,
   "metadata": {},
   "outputs": [
    {
     "data": {
      "text/html": [
       "<div>\n",
       "<style scoped>\n",
       "    .dataframe tbody tr th:only-of-type {\n",
       "        vertical-align: middle;\n",
       "    }\n",
       "\n",
       "    .dataframe tbody tr th {\n",
       "        vertical-align: top;\n",
       "    }\n",
       "\n",
       "    .dataframe thead th {\n",
       "        text-align: right;\n",
       "    }\n",
       "</style>\n",
       "<table border=\"1\" class=\"dataframe\">\n",
       "  <thead>\n",
       "    <tr style=\"text-align: right;\">\n",
       "      <th></th>\n",
       "      <th>koi_period</th>\n",
       "      <th>koi_impact</th>\n",
       "      <th>koi_duration</th>\n",
       "      <th>koi_prad</th>\n",
       "      <th>koi_teq</th>\n",
       "      <th>koi_steff</th>\n",
       "      <th>koi_slogg</th>\n",
       "    </tr>\n",
       "  </thead>\n",
       "  <tbody>\n",
       "    <tr>\n",
       "      <th>809</th>\n",
       "      <td>4.167878</td>\n",
       "      <td>0.1680</td>\n",
       "      <td>2.2136</td>\n",
       "      <td>1.07</td>\n",
       "      <td>962</td>\n",
       "      <td>5251</td>\n",
       "      <td>4.541</td>\n",
       "    </tr>\n",
       "    <tr>\n",
       "      <th>5261</th>\n",
       "      <td>143.096880</td>\n",
       "      <td>0.1129</td>\n",
       "      <td>17.7400</td>\n",
       "      <td>1.48</td>\n",
       "      <td>441</td>\n",
       "      <td>6725</td>\n",
       "      <td>4.335</td>\n",
       "    </tr>\n",
       "    <tr>\n",
       "      <th>6101</th>\n",
       "      <td>0.926240</td>\n",
       "      <td>0.0580</td>\n",
       "      <td>1.2670</td>\n",
       "      <td>1.16</td>\n",
       "      <td>1208</td>\n",
       "      <td>4494</td>\n",
       "      <td>4.692</td>\n",
       "    </tr>\n",
       "    <tr>\n",
       "      <th>3031</th>\n",
       "      <td>94.180473</td>\n",
       "      <td>0.9550</td>\n",
       "      <td>7.3450</td>\n",
       "      <td>4.17</td>\n",
       "      <td>478</td>\n",
       "      <td>6997</td>\n",
       "      <td>4.475</td>\n",
       "    </tr>\n",
       "    <tr>\n",
       "      <th>5832</th>\n",
       "      <td>0.509483</td>\n",
       "      <td>0.3535</td>\n",
       "      <td>3.1400</td>\n",
       "      <td>1.22</td>\n",
       "      <td>3024</td>\n",
       "      <td>6344</td>\n",
       "      <td>4.091</td>\n",
       "    </tr>\n",
       "  </tbody>\n",
       "</table>\n",
       "</div>"
      ],
      "text/plain": [
       "      koi_period  koi_impact  koi_duration  koi_prad  koi_teq  koi_steff  \\\n",
       "809     4.167878      0.1680        2.2136      1.07      962       5251   \n",
       "5261  143.096880      0.1129       17.7400      1.48      441       6725   \n",
       "6101    0.926240      0.0580        1.2670      1.16     1208       4494   \n",
       "3031   94.180473      0.9550        7.3450      4.17      478       6997   \n",
       "5832    0.509483      0.3535        3.1400      1.22     3024       6344   \n",
       "\n",
       "      koi_slogg  \n",
       "809       4.541  \n",
       "5261      4.335  \n",
       "6101      4.692  \n",
       "3031      4.475  \n",
       "5832      4.091  "
      ]
     },
     "execution_count": 8,
     "metadata": {},
     "output_type": "execute_result"
    }
   ],
   "source": [
    "X_train.head()"
   ]
  },
  {
   "cell_type": "markdown",
   "metadata": {},
   "source": [
    "# Pre-processing\n",
    "\n",
    "Scale the data using the MinMaxScaler and perform some feature selection"
   ]
  },
  {
   "cell_type": "code",
   "execution_count": 9,
   "metadata": {},
   "outputs": [],
   "source": [
    "# Scale your data\n",
    "from sklearn.preprocessing import LabelEncoder, MinMaxScaler\n",
    "X_scaler = MinMaxScaler().fit(X_train)"
   ]
  },
  {
   "cell_type": "code",
   "execution_count": 10,
   "metadata": {},
   "outputs": [],
   "source": [
    "X_train_scaled = X_scaler.transform(X_train)\n",
    "X_test_scaled = X_scaler.transform(X_test)"
   ]
  },
  {
   "cell_type": "markdown",
   "metadata": {},
   "source": [
    "# Train the Model\n",
    "\n"
   ]
  },
  {
   "cell_type": "code",
   "execution_count": 11,
   "metadata": {},
   "outputs": [
    {
     "name": "stdout",
     "output_type": "stream",
     "text": [
      "k: 1, Train/Test Score: 1.000/0.543\n",
      "k: 3, Train/Test Score: 0.773/0.570\n",
      "k: 5, Train/Test Score: 0.722/0.578\n",
      "k: 7, Train/Test Score: 0.696/0.592\n",
      "k: 9, Train/Test Score: 0.684/0.604\n",
      "k: 11, Train/Test Score: 0.674/0.597\n",
      "k: 13, Train/Test Score: 0.671/0.596\n",
      "k: 15, Train/Test Score: 0.664/0.607\n",
      "k: 17, Train/Test Score: 0.663/0.606\n",
      "k: 19, Train/Test Score: 0.658/0.608\n"
     ]
    }
   ],
   "source": [
    "# Loop through different k values to see which has the highest accuracy\n",
    "# Note: We only use odd numbers because we don't want any ties\n",
    "# YOUR CODE HERE\n",
    "train_scores = []\n",
    "test_scores = []\n",
    "for k in range(1, 20, 2):\n",
    "    knn_model = KNeighborsClassifier(n_neighbors=k)\n",
    "    knn_model.fit(X_train_scaled, y_train)\n",
    "    train_score = knn_model.score(X_train_scaled, y_train)\n",
    "    test_score = knn_model.score(X_test_scaled, y_test)\n",
    "    train_scores.append(train_score)\n",
    "    test_scores.append(test_score)\n",
    "    print(f\"k: {k}, Train/Test Score: {train_score:.3f}/{test_score:.3f}\")"
   ]
  },
  {
   "cell_type": "code",
   "execution_count": 12,
   "metadata": {},
   "outputs": [
    {
     "data": {
      "image/png": "[encoded data removed]",
      "text/plain": [
       "<Figure size 432x288 with 1 Axes>"
      ]
     },
     "metadata": {
      "needs_background": "light"
     },
     "output_type": "display_data"
    }
   ],
   "source": [
    "# Plot the training accuracy and testing accuracy at different k values    \n",
    "plt.plot(range(1, 20, 2), train_scores, marker='o',  label=\"Training Score\")\n",
    "plt.plot(range(1, 20, 2), test_scores, marker=\"x\", label=\"Testing Score\")\n",
    "plt.legend()\n",
    "plt.xlabel(\"k neighbors\")\n",
    "plt.ylabel(\"Testing accuracy Score\")\n",
    "plt.show()"
   ]
  },
  {
   "cell_type": "code",
   "execution_count": 13,
   "metadata": {},
   "outputs": [
    {
     "name": "stdout",
     "output_type": "stream",
     "text": [
      "k=9 Test Acc: 0.604\n"
     ]
    }
   ],
   "source": [
    "# Choose the best k from above and re-fit the KNN Classifier using that k value.\n",
    "# print the score for the test data\n",
    "# YOUR CODE HERE\n",
    "knn_model = KNeighborsClassifier(n_neighbors=9)\n",
    "knn_model.fit(X_train_scaled, y_train)\n",
    "print('k=9 Test Acc: %.3f' % knn_model.score(X_test_scaled, y_test))"
   ]
  },
  {
   "cell_type": "markdown",
   "metadata": {},
   "source": [
    "# Hyperparameter Tuning\n",
    "\n",
    "Use `GridSearchCV` to tune the model's parameters"
   ]
  },
  {
   "cell_type": "code",
   "execution_count": 14,
   "metadata": {},
   "outputs": [
    {
     "name": "stdout",
     "output_type": "stream",
     "text": [
      "dict_keys(['algorithm', 'leaf_size', 'metric', 'metric_params', 'n_jobs', 'n_neighbors', 'p', 'weights'])\n"
     ]
    }
   ],
   "source": [
    "# Create the GridSearchCV model\n",
    "from sklearn.model_selection import GridSearchCV\n",
    "param_grid = {'n_neighbors': [3, 5, 7, 9],\n",
    "             'weights': ['uniform', 'distance'],\n",
    "             'metric': ['euclidean', 'manhattan']}\n",
    "grid = GridSearchCV(knn_model, param_grid, verbose=3)\n",
    "print(knn_model.get_params().keys())"
   ]
  },
  {
   "cell_type": "code",
   "execution_count": 15,
   "metadata": {},
   "outputs": [
    {
     "name": "stdout",
     "output_type": "stream",
     "text": [
      "Fitting 5 folds for each of 16 candidates, totalling 80 fits\n",
      "[CV] metric=euclidean, n_neighbors=3, weights=uniform ................\n",
      "[CV]  metric=euclidean, n_neighbors=3, weights=uniform, score=0.589, total=   0.1s\n",
      "[CV] metric=euclidean, n_neighbors=3, weights=uniform ................\n",
      "[CV]  metric=euclidean, n_neighbors=3, weights=uniform, score=0.573, total=   0.0s\n",
      "[CV] metric=euclidean, n_neighbors=3, weights=uniform ................\n",
      "[CV]  metric=euclidean, n_neighbors=3, weights=uniform, score=0.597, total=   0.0s\n",
      "[CV] metric=euclidean, n_neighbors=3, weights=uniform ................\n",
      "[CV]  metric=euclidean, n_neighbors=3, weights=uniform, score=0.560, total=   0.0s\n",
      "[CV] metric=euclidean, n_neighbors=3, weights=uniform ................\n"
     ]
    },
    {
     "name": "stderr",
     "output_type": "stream",
     "text": [
      "[Parallel(n_jobs=1)]: Using backend SequentialBackend with 1 concurrent workers.\n",
      "[Parallel(n_jobs=1)]: Done   1 out of   1 | elapsed:    0.0s remaining:    0.0s\n",
      "[Parallel(n_jobs=1)]: Done   2 out of   2 | elapsed:    0.0s remaining:    0.0s\n"
     ]
    },
    {
     "name": "stdout",
     "output_type": "stream",
     "text": [
      "[CV]  metric=euclidean, n_neighbors=3, weights=uniform, score=0.568, total=   0.0s\n",
      "[CV] metric=euclidean, n_neighbors=3, weights=distance ...............\n",
      "[CV]  metric=euclidean, n_neighbors=3, weights=distance, score=0.592, total=   0.0s\n",
      "[CV] metric=euclidean, n_neighbors=3, weights=distance ...............\n",
      "[CV]  metric=euclidean, n_neighbors=3, weights=distance, score=0.587, total=   0.0s\n",
      "[CV] metric=euclidean, n_neighbors=3, weights=distance ...............\n",
      "[CV]  metric=euclidean, n_neighbors=3, weights=distance, score=0.599, total=   0.0s\n",
      "[CV] metric=euclidean, n_neighbors=3, weights=distance ...............\n",
      "[CV]  metric=euclidean, n_neighbors=3, weights=distance, score=0.576, total=   0.0s\n",
      "[CV] metric=euclidean, n_neighbors=3, weights=distance ...............\n",
      "[CV]  metric=euclidean, n_neighbors=3, weights=distance, score=0.578, total=   0.0s\n",
      "[CV] metric=euclidean, n_neighbors=5, weights=uniform ................\n",
      "[CV]  metric=euclidean, n_neighbors=5, weights=uniform, score=0.598, total=   0.0s\n",
      "[CV] metric=euclidean, n_neighbors=5, weights=uniform ................\n",
      "[CV]  metric=euclidean, n_neighbors=5, weights=uniform, score=0.571, total=   0.0s\n",
      "[CV] metric=euclidean, n_neighbors=5, weights=uniform ................\n",
      "[CV]  metric=euclidean, n_neighbors=5, weights=uniform, score=0.595, total=   0.0s\n",
      "[CV] metric=euclidean, n_neighbors=5, weights=uniform ................\n",
      "[CV]  metric=euclidean, n_neighbors=5, weights=uniform, score=0.575, total=   0.0s\n",
      "[CV] metric=euclidean, n_neighbors=5, weights=uniform ................\n",
      "[CV]  metric=euclidean, n_neighbors=5, weights=uniform, score=0.575, total=   0.0s\n",
      "[CV] metric=euclidean, n_neighbors=5, weights=distance ...............\n",
      "[CV]  metric=euclidean, n_neighbors=5, weights=distance, score=0.607, total=   0.0s\n",
      "[CV] metric=euclidean, n_neighbors=5, weights=distance ...............\n",
      "[CV]  metric=euclidean, n_neighbors=5, weights=distance, score=0.595, total=   0.0s\n",
      "[CV] metric=euclidean, n_neighbors=5, weights=distance ...............\n",
      "[CV]  metric=euclidean, n_neighbors=5, weights=distance, score=0.601, total=   0.0s\n",
      "[CV] metric=euclidean, n_neighbors=5, weights=distance ...............\n",
      "[CV]  metric=euclidean, n_neighbors=5, weights=distance, score=0.584, total=   0.0s\n",
      "[CV] metric=euclidean, n_neighbors=5, weights=distance ...............\n",
      "[CV]  metric=euclidean, n_neighbors=5, weights=distance, score=0.603, total=   0.0s\n",
      "[CV] metric=euclidean, n_neighbors=7, weights=uniform ................\n",
      "[CV]  metric=euclidean, n_neighbors=7, weights=uniform, score=0.612, total=   0.0s\n",
      "[CV] metric=euclidean, n_neighbors=7, weights=uniform ................\n",
      "[CV]  metric=euclidean, n_neighbors=7, weights=uniform, score=0.581, total=   0.0s\n",
      "[CV] metric=euclidean, n_neighbors=7, weights=uniform ................\n",
      "[CV]  metric=euclidean, n_neighbors=7, weights=uniform, score=0.603, total=   0.0s\n",
      "[CV] metric=euclidean, n_neighbors=7, weights=uniform ................\n",
      "[CV]  metric=euclidean, n_neighbors=7, weights=uniform, score=0.594, total=   0.0s\n",
      "[CV] metric=euclidean, n_neighbors=7, weights=uniform ................\n",
      "[CV]  metric=euclidean, n_neighbors=7, weights=uniform, score=0.594, total=   0.0s\n",
      "[CV] metric=euclidean, n_neighbors=7, weights=distance ...............\n",
      "[CV]  metric=euclidean, n_neighbors=7, weights=distance, score=0.622, total=   0.0s\n",
      "[CV] metric=euclidean, n_neighbors=7, weights=distance ...............\n",
      "[CV]  metric=euclidean, n_neighbors=7, weights=distance, score=0.601, total=   0.0s\n",
      "[CV] metric=euclidean, n_neighbors=7, weights=distance ...............\n",
      "[CV]  metric=euclidean, n_neighbors=7, weights=distance, score=0.608, total=   0.0s\n",
      "[CV] metric=euclidean, n_neighbors=7, weights=distance ...............\n",
      "[CV]  metric=euclidean, n_neighbors=7, weights=distance, score=0.595, total=   0.0s\n",
      "[CV] metric=euclidean, n_neighbors=7, weights=distance ...............\n",
      "[CV]  metric=euclidean, n_neighbors=7, weights=distance, score=0.596, total=   0.0s\n",
      "[CV] metric=euclidean, n_neighbors=9, weights=uniform ................\n",
      "[CV]  metric=euclidean, n_neighbors=9, weights=uniform, score=0.602, total=   0.0s\n",
      "[CV] metric=euclidean, n_neighbors=9, weights=uniform ................\n",
      "[CV]  metric=euclidean, n_neighbors=9, weights=uniform, score=0.596, total=   0.0s\n",
      "[CV] metric=euclidean, n_neighbors=9, weights=uniform ................\n",
      "[CV]  metric=euclidean, n_neighbors=9, weights=uniform, score=0.611, total=   0.0s\n",
      "[CV] metric=euclidean, n_neighbors=9, weights=uniform ................\n",
      "[CV]  metric=euclidean, n_neighbors=9, weights=uniform, score=0.603, total=   0.0s\n",
      "[CV] metric=euclidean, n_neighbors=9, weights=uniform ................\n",
      "[CV]  metric=euclidean, n_neighbors=9, weights=uniform, score=0.594, total=   0.0s\n",
      "[CV] metric=euclidean, n_neighbors=9, weights=distance ...............\n",
      "[CV]  metric=euclidean, n_neighbors=9, weights=distance, score=0.614, total=   0.0s\n",
      "[CV] metric=euclidean, n_neighbors=9, weights=distance ...............\n",
      "[CV]  metric=euclidean, n_neighbors=9, weights=distance, score=0.606, total=   0.0s\n",
      "[CV] metric=euclidean, n_neighbors=9, weights=distance ...............\n",
      "[CV]  metric=euclidean, n_neighbors=9, weights=distance, score=0.608, total=   0.0s\n",
      "[CV] metric=euclidean, n_neighbors=9, weights=distance ...............\n",
      "[CV]  metric=euclidean, n_neighbors=9, weights=distance, score=0.599, total=   0.0s\n",
      "[CV] metric=euclidean, n_neighbors=9, weights=distance ...............\n",
      "[CV]  metric=euclidean, n_neighbors=9, weights=distance, score=0.602, total=   0.0s\n",
      "[CV] metric=manhattan, n_neighbors=3, weights=uniform ................\n",
      "[CV]  metric=manhattan, n_neighbors=3, weights=uniform, score=0.578, total=   0.0s\n",
      "[CV] metric=manhattan, n_neighbors=3, weights=uniform ................\n",
      "[CV]  metric=manhattan, n_neighbors=3, weights=uniform, score=0.581, total=   0.0s\n",
      "[CV] metric=manhattan, n_neighbors=3, weights=uniform ................\n",
      "[CV]  metric=manhattan, n_neighbors=3, weights=uniform, score=0.599, total=   0.0s\n",
      "[CV] metric=manhattan, n_neighbors=3, weights=uniform ................\n",
      "[CV]  metric=manhattan, n_neighbors=3, weights=uniform, score=0.558, total=   0.0s\n",
      "[CV] metric=manhattan, n_neighbors=3, weights=uniform ................\n",
      "[CV]  metric=manhattan, n_neighbors=3, weights=uniform, score=0.581, total=   0.0s\n",
      "[CV] metric=manhattan, n_neighbors=3, weights=distance ...............\n",
      "[CV]  metric=manhattan, n_neighbors=3, weights=distance, score=0.584, total=   0.0s\n",
      "[CV] metric=manhattan, n_neighbors=3, weights=distance ...............\n",
      "[CV]  metric=manhattan, n_neighbors=3, weights=distance, score=0.587, total=   0.0s\n",
      "[CV] metric=manhattan, n_neighbors=3, weights=distance ...............\n",
      "[CV]  metric=manhattan, n_neighbors=3, weights=distance, score=0.599, total=   0.0s\n",
      "[CV] metric=manhattan, n_neighbors=3, weights=distance ...............\n",
      "[CV]  metric=manhattan, n_neighbors=3, weights=distance, score=0.564, total=   0.0s\n",
      "[CV] metric=manhattan, n_neighbors=3, weights=distance ...............\n",
      "[CV]  metric=manhattan, n_neighbors=3, weights=distance, score=0.589, total=   0.0s\n",
      "[CV] metric=manhattan, n_neighbors=5, weights=uniform ................\n",
      "[CV]  metric=manhattan, n_neighbors=5, weights=uniform, score=0.611, total=   0.0s\n",
      "[CV] metric=manhattan, n_neighbors=5, weights=uniform ................\n",
      "[CV]  metric=manhattan, n_neighbors=5, weights=uniform, score=0.588, total=   0.0s\n",
      "[CV] metric=manhattan, n_neighbors=5, weights=uniform ................\n",
      "[CV]  metric=manhattan, n_neighbors=5, weights=uniform, score=0.589, total=   0.1s\n",
      "[CV] metric=manhattan, n_neighbors=5, weights=uniform ................\n",
      "[CV]  metric=manhattan, n_neighbors=5, weights=uniform, score=0.567, total=   0.1s\n",
      "[CV] metric=manhattan, n_neighbors=5, weights=uniform ................\n",
      "[CV]  metric=manhattan, n_neighbors=5, weights=uniform, score=0.561, total=   0.0s\n",
      "[CV] metric=manhattan, n_neighbors=5, weights=distance ...............\n",
      "[CV]  metric=manhattan, n_neighbors=5, weights=distance, score=0.608, total=   0.0s\n",
      "[CV] metric=manhattan, n_neighbors=5, weights=distance ...............\n",
      "[CV]  metric=manhattan, n_neighbors=5, weights=distance, score=0.609, total=   0.0s\n",
      "[CV] metric=manhattan, n_neighbors=5, weights=distance ...............\n",
      "[CV]  metric=manhattan, n_neighbors=5, weights=distance, score=0.604, total=   0.0s\n",
      "[CV] metric=manhattan, n_neighbors=5, weights=distance ...............\n"
     ]
    },
    {
     "name": "stdout",
     "output_type": "stream",
     "text": [
      "[CV]  metric=manhattan, n_neighbors=5, weights=distance, score=0.581, total=   0.0s\n",
      "[CV] metric=manhattan, n_neighbors=5, weights=distance ...............\n",
      "[CV]  metric=manhattan, n_neighbors=5, weights=distance, score=0.587, total=   0.0s\n",
      "[CV] metric=manhattan, n_neighbors=7, weights=uniform ................\n",
      "[CV]  metric=manhattan, n_neighbors=7, weights=uniform, score=0.617, total=   0.0s\n",
      "[CV] metric=manhattan, n_neighbors=7, weights=uniform ................\n",
      "[CV]  metric=manhattan, n_neighbors=7, weights=uniform, score=0.608, total=   0.0s\n",
      "[CV] metric=manhattan, n_neighbors=7, weights=uniform ................\n",
      "[CV]  metric=manhattan, n_neighbors=7, weights=uniform, score=0.601, total=   0.0s\n",
      "[CV] metric=manhattan, n_neighbors=7, weights=uniform ................\n",
      "[CV]  metric=manhattan, n_neighbors=7, weights=uniform, score=0.586, total=   0.0s\n",
      "[CV] metric=manhattan, n_neighbors=7, weights=uniform ................\n",
      "[CV]  metric=manhattan, n_neighbors=7, weights=uniform, score=0.575, total=   0.0s\n",
      "[CV] metric=manhattan, n_neighbors=7, weights=distance ...............\n",
      "[CV]  metric=manhattan, n_neighbors=7, weights=distance, score=0.625, total=   0.0s\n",
      "[CV] metric=manhattan, n_neighbors=7, weights=distance ...............\n",
      "[CV]  metric=manhattan, n_neighbors=7, weights=distance, score=0.621, total=   0.0s\n",
      "[CV] metric=manhattan, n_neighbors=7, weights=distance ...............\n",
      "[CV]  metric=manhattan, n_neighbors=7, weights=distance, score=0.609, total=   0.0s\n",
      "[CV] metric=manhattan, n_neighbors=7, weights=distance ...............\n",
      "[CV]  metric=manhattan, n_neighbors=7, weights=distance, score=0.600, total=   0.0s\n",
      "[CV] metric=manhattan, n_neighbors=7, weights=distance ...............\n",
      "[CV]  metric=manhattan, n_neighbors=7, weights=distance, score=0.579, total=   0.0s\n",
      "[CV] metric=manhattan, n_neighbors=9, weights=uniform ................\n",
      "[CV]  metric=manhattan, n_neighbors=9, weights=uniform, score=0.623, total=   0.0s\n",
      "[CV] metric=manhattan, n_neighbors=9, weights=uniform ................\n",
      "[CV]  metric=manhattan, n_neighbors=9, weights=uniform, score=0.608, total=   0.0s\n",
      "[CV] metric=manhattan, n_neighbors=9, weights=uniform ................\n",
      "[CV]  metric=manhattan, n_neighbors=9, weights=uniform, score=0.608, total=   0.0s\n",
      "[CV] metric=manhattan, n_neighbors=9, weights=uniform ................\n",
      "[CV]  metric=manhattan, n_neighbors=9, weights=uniform, score=0.601, total=   0.0s\n",
      "[CV] metric=manhattan, n_neighbors=9, weights=uniform ................\n",
      "[CV]  metric=manhattan, n_neighbors=9, weights=uniform, score=0.594, total=   0.0s\n",
      "[CV] metric=manhattan, n_neighbors=9, weights=distance ...............\n",
      "[CV]  metric=manhattan, n_neighbors=9, weights=distance, score=0.633, total=   0.0s\n",
      "[CV] metric=manhattan, n_neighbors=9, weights=distance ...............\n",
      "[CV]  metric=manhattan, n_neighbors=9, weights=distance, score=0.615, total=   0.0s\n",
      "[CV] metric=manhattan, n_neighbors=9, weights=distance ...............\n",
      "[CV]  metric=manhattan, n_neighbors=9, weights=distance, score=0.618, total=   0.0s\n",
      "[CV] metric=manhattan, n_neighbors=9, weights=distance ...............\n",
      "[CV]  metric=manhattan, n_neighbors=9, weights=distance, score=0.612, total=   0.0s\n",
      "[CV] metric=manhattan, n_neighbors=9, weights=distance ...............\n",
      "[CV]  metric=manhattan, n_neighbors=9, weights=distance, score=0.592, total=   0.0s\n"
     ]
    },
    {
     "name": "stderr",
     "output_type": "stream",
     "text": [
      "[Parallel(n_jobs=1)]: Done  80 out of  80 | elapsed:    2.5s finished\n"
     ]
    },
    {
     "data": {
      "text/plain": [
       "GridSearchCV(estimator=KNeighborsClassifier(n_neighbors=9),\n",
       "             param_grid={'metric': ['euclidean', 'manhattan'],\n",
       "                         'n_neighbors': [3, 5, 7, 9],\n",
       "                         'weights': ['uniform', 'distance']},\n",
       "             verbose=3)"
      ]
     },
     "execution_count": 15,
     "metadata": {},
     "output_type": "execute_result"
    }
   ],
   "source": [
    "# Train the model with GridSearch\n",
    "grid.fit(X_train_scaled, y_train)"
   ]
  },
  {
   "cell_type": "code",
   "execution_count": 16,
   "metadata": {},
   "outputs": [
    {
     "name": "stdout",
     "output_type": "stream",
     "text": [
      "{'metric': 'manhattan', 'n_neighbors': 9, 'weights': 'distance'}\n",
      "0.6137661094899541\n"
     ]
    }
   ],
   "source": [
    "#Print best params and their score\n",
    "print(grid.best_params_)\n",
    "print(grid.best_score_)"
   ]
  },
  {
   "cell_type": "code",
   "execution_count": 17,
   "metadata": {},
   "outputs": [
    {
     "data": {
      "text/plain": [
       "array(['CONFIRMED', 'FALSE POSITIVE', 'CONFIRMED', ..., 'CANDIDATE',\n",
       "       'FALSE POSITIVE', 'CANDIDATE'], dtype=object)"
      ]
     },
     "execution_count": 17,
     "metadata": {},
     "output_type": "execute_result"
    }
   ],
   "source": [
    "#Make predictions\n",
    "predictions = knn_model.predict(X_test_scaled)\n",
    "predictions"
   ]
  },
  {
   "cell_type": "code",
   "execution_count": 18,
   "metadata": {},
   "outputs": [
    {
     "name": "stdout",
     "output_type": "stream",
     "text": [
      "                precision    recall  f1-score   support\n",
      "\n",
      "     CANDIDATE       0.36      0.28      0.32       421\n",
      "     CONFIRMED       0.52      0.62      0.57       456\n",
      "FALSE POSITIVE       0.74      0.75      0.75       871\n",
      "\n",
      "      accuracy                           0.60      1748\n",
      "     macro avg       0.54      0.55      0.54      1748\n",
      "  weighted avg       0.59      0.60      0.60      1748\n",
      "\n"
     ]
    }
   ],
   "source": [
    "#Calculate classification report\n",
    "from sklearn.metrics import classification_report\n",
    "print(classification_report(y_test, predictions, target_names = y_names))"
   ]
  },
  {
   "cell_type": "markdown",
   "metadata": {},
   "source": [
    "# Save the Model"
   ]
  },
  {
   "cell_type": "code",
   "execution_count": 19,
   "metadata": {},
   "outputs": [
    {
     "data": {
      "text/plain": [
       "['AJP.sav']"
      ]
     },
     "execution_count": 19,
     "metadata": {},
     "output_type": "execute_result"
    }
   ],
   "source": [
    "# save your model by updating \"your_name\" with your name\n",
    "# and \"your_model\" with your model variable\n",
    "# be sure to turn this in to BCS\n",
    "# if joblib fails to import, try running the command to install in terminal/git-bash\n",
    "import joblib\n",
    "filename = 'AJP.sav'\n",
    "joblib.dump(knn_model, filename)"
   ]
  }
 ],
 "metadata": {
  "kernel_info": {
   "name": "dev"
  },
  "kernelspec": {
   "display_name": "Python [conda env:root] *",
   "language": "python",
   "name": "conda-root-py"
  },
  "language_info": {
   "codemirror_mode": {
    "name": "ipython",
    "version": 3
   },
   "file_extension": ".py",
   "mimetype": "text/x-python",
   "name": "python",
   "nbconvert_exporter": "python",
   "pygments_lexer": "ipython3",
   "version": "3.8.5"
  },
  "nteract": {
   "version": "0.12.3"
  }
 },
 "nbformat": 4,
 "nbformat_minor": 2
}
