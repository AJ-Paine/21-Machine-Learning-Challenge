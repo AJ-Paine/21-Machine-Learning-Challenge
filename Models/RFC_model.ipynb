{
 "cells": [
  {
   "cell_type": "code",
   "execution_count": 1,
   "metadata": {},
   "outputs": [
    {
     "name": "stdout",
     "output_type": "stream",
     "text": [
      "Requirement already up-to-date: sklearn in c:\\users\\10pai\\anaconda3\\lib\\site-packages (0.0)\n",
      "Requirement already satisfied, skipping upgrade: scikit-learn in c:\\users\\10pai\\anaconda3\\lib\\site-packages (from sklearn) (0.23.2)\n",
      "Requirement already satisfied, skipping upgrade: threadpoolctl>=2.0.0 in c:\\users\\10pai\\anaconda3\\lib\\site-packages (from scikit-learn->sklearn) (2.1.0)\n",
      "Requirement already satisfied, skipping upgrade: scipy>=0.19.1 in c:\\users\\10pai\\anaconda3\\lib\\site-packages (from scikit-learn->sklearn) (1.5.2)\n",
      "Requirement already satisfied, skipping upgrade: numpy>=1.13.3 in c:\\users\\10pai\\anaconda3\\lib\\site-packages (from scikit-learn->sklearn) (1.19.2)\n",
      "Requirement already satisfied, skipping upgrade: joblib>=0.11 in c:\\users\\10pai\\anaconda3\\lib\\site-packages (from scikit-learn->sklearn) (0.17.0)\n"
     ]
    }
   ],
   "source": [
    "# Update sklearn to prevent version mismatches\n",
    "!pip install sklearn --upgrade"
   ]
  },
  {
   "cell_type": "code",
   "execution_count": 2,
   "metadata": {},
   "outputs": [
    {
     "name": "stdout",
     "output_type": "stream",
     "text": [
      "Requirement already satisfied: joblib in c:\\users\\10pai\\anaconda3\\lib\\site-packages (0.17.0)\n"
     ]
    }
   ],
   "source": [
    "# install joblib. This will be used to save your model. \n",
    "# Restart your kernel after installing \n",
    "!pip install joblib"
   ]
  },
  {
   "cell_type": "code",
   "execution_count": 3,
   "metadata": {},
   "outputs": [],
   "source": [
    "import matplotlib.pyplot as plt\n",
    "from sklearn import tree\n",
    "import pandas as pd\n",
    "import os"
   ]
  },
  {
   "cell_type": "markdown",
   "metadata": {},
   "source": [
    "# Read the CSV and Perform Basic Data Cleaning"
   ]
  },
  {
   "cell_type": "code",
   "execution_count": 4,
   "metadata": {},
   "outputs": [
    {
     "data": {
      "text/html": [
       "<div>\n",
       "<style scoped>\n",
       "    .dataframe tbody tr th:only-of-type {\n",
       "        vertical-align: middle;\n",
       "    }\n",
       "\n",
       "    .dataframe tbody tr th {\n",
       "        vertical-align: top;\n",
       "    }\n",
       "\n",
       "    .dataframe thead th {\n",
       "        text-align: right;\n",
       "    }\n",
       "</style>\n",
       "<table border=\"1\" class=\"dataframe\">\n",
       "  <thead>\n",
       "    <tr style=\"text-align: right;\">\n",
       "      <th></th>\n",
       "      <th>koi_disposition</th>\n",
       "      <th>koi_fpflag_nt</th>\n",
       "      <th>koi_fpflag_ss</th>\n",
       "      <th>koi_fpflag_co</th>\n",
       "      <th>koi_fpflag_ec</th>\n",
       "      <th>koi_period</th>\n",
       "      <th>koi_period_err1</th>\n",
       "      <th>koi_period_err2</th>\n",
       "      <th>koi_time0bk</th>\n",
       "      <th>koi_time0bk_err1</th>\n",
       "      <th>...</th>\n",
       "      <th>koi_steff_err2</th>\n",
       "      <th>koi_slogg</th>\n",
       "      <th>koi_slogg_err1</th>\n",
       "      <th>koi_slogg_err2</th>\n",
       "      <th>koi_srad</th>\n",
       "      <th>koi_srad_err1</th>\n",
       "      <th>koi_srad_err2</th>\n",
       "      <th>ra</th>\n",
       "      <th>dec</th>\n",
       "      <th>koi_kepmag</th>\n",
       "    </tr>\n",
       "  </thead>\n",
       "  <tbody>\n",
       "    <tr>\n",
       "      <th>0</th>\n",
       "      <td>CONFIRMED</td>\n",
       "      <td>0</td>\n",
       "      <td>0</td>\n",
       "      <td>0</td>\n",
       "      <td>0</td>\n",
       "      <td>54.418383</td>\n",
       "      <td>2.479000e-04</td>\n",
       "      <td>-2.479000e-04</td>\n",
       "      <td>162.513840</td>\n",
       "      <td>0.003520</td>\n",
       "      <td>...</td>\n",
       "      <td>-81</td>\n",
       "      <td>4.467</td>\n",
       "      <td>0.064</td>\n",
       "      <td>-0.096</td>\n",
       "      <td>0.927</td>\n",
       "      <td>0.105</td>\n",
       "      <td>-0.061</td>\n",
       "      <td>291.93423</td>\n",
       "      <td>48.141651</td>\n",
       "      <td>15.347</td>\n",
       "    </tr>\n",
       "    <tr>\n",
       "      <th>1</th>\n",
       "      <td>FALSE POSITIVE</td>\n",
       "      <td>0</td>\n",
       "      <td>1</td>\n",
       "      <td>0</td>\n",
       "      <td>0</td>\n",
       "      <td>19.899140</td>\n",
       "      <td>1.490000e-05</td>\n",
       "      <td>-1.490000e-05</td>\n",
       "      <td>175.850252</td>\n",
       "      <td>0.000581</td>\n",
       "      <td>...</td>\n",
       "      <td>-176</td>\n",
       "      <td>4.544</td>\n",
       "      <td>0.044</td>\n",
       "      <td>-0.176</td>\n",
       "      <td>0.868</td>\n",
       "      <td>0.233</td>\n",
       "      <td>-0.078</td>\n",
       "      <td>297.00482</td>\n",
       "      <td>48.134129</td>\n",
       "      <td>15.436</td>\n",
       "    </tr>\n",
       "    <tr>\n",
       "      <th>2</th>\n",
       "      <td>FALSE POSITIVE</td>\n",
       "      <td>0</td>\n",
       "      <td>1</td>\n",
       "      <td>0</td>\n",
       "      <td>0</td>\n",
       "      <td>1.736952</td>\n",
       "      <td>2.630000e-07</td>\n",
       "      <td>-2.630000e-07</td>\n",
       "      <td>170.307565</td>\n",
       "      <td>0.000115</td>\n",
       "      <td>...</td>\n",
       "      <td>-174</td>\n",
       "      <td>4.564</td>\n",
       "      <td>0.053</td>\n",
       "      <td>-0.168</td>\n",
       "      <td>0.791</td>\n",
       "      <td>0.201</td>\n",
       "      <td>-0.067</td>\n",
       "      <td>285.53461</td>\n",
       "      <td>48.285210</td>\n",
       "      <td>15.597</td>\n",
       "    </tr>\n",
       "    <tr>\n",
       "      <th>3</th>\n",
       "      <td>CONFIRMED</td>\n",
       "      <td>0</td>\n",
       "      <td>0</td>\n",
       "      <td>0</td>\n",
       "      <td>0</td>\n",
       "      <td>2.525592</td>\n",
       "      <td>3.760000e-06</td>\n",
       "      <td>-3.760000e-06</td>\n",
       "      <td>171.595550</td>\n",
       "      <td>0.001130</td>\n",
       "      <td>...</td>\n",
       "      <td>-211</td>\n",
       "      <td>4.438</td>\n",
       "      <td>0.070</td>\n",
       "      <td>-0.210</td>\n",
       "      <td>1.046</td>\n",
       "      <td>0.334</td>\n",
       "      <td>-0.133</td>\n",
       "      <td>288.75488</td>\n",
       "      <td>48.226200</td>\n",
       "      <td>15.509</td>\n",
       "    </tr>\n",
       "    <tr>\n",
       "      <th>4</th>\n",
       "      <td>CONFIRMED</td>\n",
       "      <td>0</td>\n",
       "      <td>0</td>\n",
       "      <td>0</td>\n",
       "      <td>0</td>\n",
       "      <td>4.134435</td>\n",
       "      <td>1.050000e-05</td>\n",
       "      <td>-1.050000e-05</td>\n",
       "      <td>172.979370</td>\n",
       "      <td>0.001900</td>\n",
       "      <td>...</td>\n",
       "      <td>-232</td>\n",
       "      <td>4.486</td>\n",
       "      <td>0.054</td>\n",
       "      <td>-0.229</td>\n",
       "      <td>0.972</td>\n",
       "      <td>0.315</td>\n",
       "      <td>-0.105</td>\n",
       "      <td>296.28613</td>\n",
       "      <td>48.224670</td>\n",
       "      <td>15.714</td>\n",
       "    </tr>\n",
       "  </tbody>\n",
       "</table>\n",
       "<p>5 rows × 41 columns</p>\n",
       "</div>"
      ],
      "text/plain": [
       "  koi_disposition  koi_fpflag_nt  koi_fpflag_ss  koi_fpflag_co  koi_fpflag_ec  \\\n",
       "0       CONFIRMED              0              0              0              0   \n",
       "1  FALSE POSITIVE              0              1              0              0   \n",
       "2  FALSE POSITIVE              0              1              0              0   \n",
       "3       CONFIRMED              0              0              0              0   \n",
       "4       CONFIRMED              0              0              0              0   \n",
       "\n",
       "   koi_period  koi_period_err1  koi_period_err2  koi_time0bk  \\\n",
       "0   54.418383     2.479000e-04    -2.479000e-04   162.513840   \n",
       "1   19.899140     1.490000e-05    -1.490000e-05   175.850252   \n",
       "2    1.736952     2.630000e-07    -2.630000e-07   170.307565   \n",
       "3    2.525592     3.760000e-06    -3.760000e-06   171.595550   \n",
       "4    4.134435     1.050000e-05    -1.050000e-05   172.979370   \n",
       "\n",
       "   koi_time0bk_err1  ...  koi_steff_err2  koi_slogg  koi_slogg_err1  \\\n",
       "0          0.003520  ...             -81      4.467           0.064   \n",
       "1          0.000581  ...            -176      4.544           0.044   \n",
       "2          0.000115  ...            -174      4.564           0.053   \n",
       "3          0.001130  ...            -211      4.438           0.070   \n",
       "4          0.001900  ...            -232      4.486           0.054   \n",
       "\n",
       "   koi_slogg_err2  koi_srad  koi_srad_err1  koi_srad_err2         ra  \\\n",
       "0          -0.096     0.927          0.105         -0.061  291.93423   \n",
       "1          -0.176     0.868          0.233         -0.078  297.00482   \n",
       "2          -0.168     0.791          0.201         -0.067  285.53461   \n",
       "3          -0.210     1.046          0.334         -0.133  288.75488   \n",
       "4          -0.229     0.972          0.315         -0.105  296.28613   \n",
       "\n",
       "         dec  koi_kepmag  \n",
       "0  48.141651      15.347  \n",
       "1  48.134129      15.436  \n",
       "2  48.285210      15.597  \n",
       "3  48.226200      15.509  \n",
       "4  48.224670      15.714  \n",
       "\n",
       "[5 rows x 41 columns]"
      ]
     },
     "execution_count": 4,
     "metadata": {},
     "output_type": "execute_result"
    }
   ],
   "source": [
    "df = pd.read_csv(\"../Data/exoplanet_data.csv\")\n",
    "# Drop the null columns where all values are null\n",
    "df = df.dropna(axis='columns', how='all')\n",
    "# Drop the null rows\n",
    "df = df.dropna()\n",
    "df.head()"
   ]
  },
  {
   "cell_type": "markdown",
   "metadata": {},
   "source": [
    "# Select your features (columns)"
   ]
  },
  {
   "cell_type": "code",
   "execution_count": 5,
   "metadata": {},
   "outputs": [
    {
     "data": {
      "text/plain": [
       "Index(['koi_period', 'koi_impact', 'koi_duration', 'koi_prad', 'koi_teq',\n",
       "       'koi_steff', 'koi_slogg'],\n",
       "      dtype='object')"
      ]
     },
     "execution_count": 5,
     "metadata": {},
     "output_type": "execute_result"
    }
   ],
   "source": [
    "# Set features. This will also be used as your x values.\n",
    "X = df[['koi_period', 'koi_impact', 'koi_duration', 'koi_prad', 'koi_teq', 'koi_steff', 'koi_slogg']]\n",
    "X_names = X.columns\n",
    "X_names"
   ]
  },
  {
   "cell_type": "markdown",
   "metadata": {},
   "source": [
    "# Create a Train Test Split\n",
    "\n",
    "Use `koi_disposition` for the y values"
   ]
  },
  {
   "cell_type": "code",
   "execution_count": 6,
   "metadata": {},
   "outputs": [
    {
     "name": "stdout",
     "output_type": "stream",
     "text": [
      "['CANDIDATE' 'CONFIRMED' 'FALSE POSITIVE']\n"
     ]
    }
   ],
   "source": [
    "#Select column for dependent variable (y)\n",
    "y = df[\"koi_disposition\"]\n",
    "y_names = df.koi_disposition.unique()\n",
    "y_names.sort()\n",
    "print(y_names)"
   ]
  },
  {
   "cell_type": "code",
   "execution_count": 7,
   "metadata": {},
   "outputs": [
    {
     "name": "stdout",
     "output_type": "stream",
     "text": [
      "(6991, 7) (6991,)\n"
     ]
    }
   ],
   "source": [
    "#Split the data into train/test data sets\n",
    "from sklearn.model_selection import train_test_split\n",
    "X_train, X_test, y_train, y_test = train_test_split(X, y)\n",
    "print(X.shape, y.shape)"
   ]
  },
  {
   "cell_type": "code",
   "execution_count": 8,
   "metadata": {},
   "outputs": [
    {
     "data": {
      "text/html": [
       "<div>\n",
       "<style scoped>\n",
       "    .dataframe tbody tr th:only-of-type {\n",
       "        vertical-align: middle;\n",
       "    }\n",
       "\n",
       "    .dataframe tbody tr th {\n",
       "        vertical-align: top;\n",
       "    }\n",
       "\n",
       "    .dataframe thead th {\n",
       "        text-align: right;\n",
       "    }\n",
       "</style>\n",
       "<table border=\"1\" class=\"dataframe\">\n",
       "  <thead>\n",
       "    <tr style=\"text-align: right;\">\n",
       "      <th></th>\n",
       "      <th>koi_period</th>\n",
       "      <th>koi_impact</th>\n",
       "      <th>koi_duration</th>\n",
       "      <th>koi_prad</th>\n",
       "      <th>koi_teq</th>\n",
       "      <th>koi_steff</th>\n",
       "      <th>koi_slogg</th>\n",
       "    </tr>\n",
       "  </thead>\n",
       "  <tbody>\n",
       "    <tr>\n",
       "      <th>540</th>\n",
       "      <td>0.567856</td>\n",
       "      <td>0.324</td>\n",
       "      <td>1.02580</td>\n",
       "      <td>1.55</td>\n",
       "      <td>1848</td>\n",
       "      <td>5073</td>\n",
       "      <td>4.483</td>\n",
       "    </tr>\n",
       "    <tr>\n",
       "      <th>2586</th>\n",
       "      <td>122.385868</td>\n",
       "      <td>0.101</td>\n",
       "      <td>7.12300</td>\n",
       "      <td>1.72</td>\n",
       "      <td>269</td>\n",
       "      <td>4926</td>\n",
       "      <td>4.653</td>\n",
       "    </tr>\n",
       "    <tr>\n",
       "      <th>3623</th>\n",
       "      <td>421.428482</td>\n",
       "      <td>0.356</td>\n",
       "      <td>8.60447</td>\n",
       "      <td>54.16</td>\n",
       "      <td>335</td>\n",
       "      <td>6235</td>\n",
       "      <td>4.034</td>\n",
       "    </tr>\n",
       "    <tr>\n",
       "      <th>5850</th>\n",
       "      <td>17.663798</td>\n",
       "      <td>0.695</td>\n",
       "      <td>6.19400</td>\n",
       "      <td>2.98</td>\n",
       "      <td>1178</td>\n",
       "      <td>5734</td>\n",
       "      <td>3.591</td>\n",
       "    </tr>\n",
       "    <tr>\n",
       "      <th>1894</th>\n",
       "      <td>1.716828</td>\n",
       "      <td>0.700</td>\n",
       "      <td>2.06800</td>\n",
       "      <td>0.74</td>\n",
       "      <td>1455</td>\n",
       "      <td>5808</td>\n",
       "      <td>4.522</td>\n",
       "    </tr>\n",
       "  </tbody>\n",
       "</table>\n",
       "</div>"
      ],
      "text/plain": [
       "      koi_period  koi_impact  koi_duration  koi_prad  koi_teq  koi_steff  \\\n",
       "540     0.567856       0.324       1.02580      1.55     1848       5073   \n",
       "2586  122.385868       0.101       7.12300      1.72      269       4926   \n",
       "3623  421.428482       0.356       8.60447     54.16      335       6235   \n",
       "5850   17.663798       0.695       6.19400      2.98     1178       5734   \n",
       "1894    1.716828       0.700       2.06800      0.74     1455       5808   \n",
       "\n",
       "      koi_slogg  \n",
       "540       4.483  \n",
       "2586      4.653  \n",
       "3623      4.034  \n",
       "5850      3.591  \n",
       "1894      4.522  "
      ]
     },
     "execution_count": 8,
     "metadata": {},
     "output_type": "execute_result"
    }
   ],
   "source": [
    "X_train.head()"
   ]
  },
  {
   "cell_type": "markdown",
   "metadata": {},
   "source": [
    "# Pre-processing\n",
    "\n",
    "Scale the data using the MinMaxScaler and perform some feature selection"
   ]
  },
  {
   "cell_type": "code",
   "execution_count": 9,
   "metadata": {},
   "outputs": [],
   "source": [
    "# Scale your data\n",
    "from sklearn.preprocessing import LabelEncoder, MinMaxScaler\n",
    "X_scaler = MinMaxScaler().fit(X_train)"
   ]
  },
  {
   "cell_type": "code",
   "execution_count": 10,
   "metadata": {},
   "outputs": [],
   "source": [
    "X_train_scaled = X_scaler.transform(X_train)\n",
    "X_test_scaled = X_scaler.transform(X_test)"
   ]
  },
  {
   "cell_type": "markdown",
   "metadata": {},
   "source": [
    "# Train the Model\n",
    "\n"
   ]
  },
  {
   "cell_type": "code",
   "execution_count": 11,
   "metadata": {},
   "outputs": [],
   "source": [
    "# Create a Decision Tree Classifier\n",
    "clf = tree.DecisionTreeClassifier()"
   ]
  },
  {
   "cell_type": "code",
   "execution_count": 12,
   "metadata": {},
   "outputs": [
    {
     "data": {
      "text/plain": [
       "0.6172768878718535"
      ]
     },
     "execution_count": 12,
     "metadata": {},
     "output_type": "execute_result"
    }
   ],
   "source": [
    "# Fit the classifier to the data\n",
    "clf = clf.fit(X_train, y_train)\n",
    "clf.score(X_test, y_test)"
   ]
  },
  {
   "cell_type": "code",
   "execution_count": 13,
   "metadata": {},
   "outputs": [
    {
     "data": {
      "text/plain": [
       "0.7191075514874142"
      ]
     },
     "execution_count": 13,
     "metadata": {},
     "output_type": "execute_result"
    }
   ],
   "source": [
    "# Create, fit, and score a Random Forest Classifier\n",
    "from sklearn.ensemble import RandomForestClassifier\n",
    "rf = RandomForestClassifier(n_estimators=200)\n",
    "rf = rf.fit(X_train, y_train)\n",
    "rf.score(X_test, y_test)"
   ]
  },
  {
   "cell_type": "code",
   "execution_count": 14,
   "metadata": {},
   "outputs": [
    {
     "data": {
      "text/plain": [
       "[(0.23976178440337406, 'koi_prad'),\n",
       " (0.15612719880680564, 'koi_period'),\n",
       " (0.13500232821059144, 'koi_duration'),\n",
       " (0.13188101447262107, 'koi_teq'),\n",
       " (0.1285483971796949, 'koi_impact'),\n",
       " (0.10507037737327186, 'koi_slogg'),\n",
       " (0.10360889955364097, 'koi_steff')]"
      ]
     },
     "execution_count": 14,
     "metadata": {},
     "output_type": "execute_result"
    }
   ],
   "source": [
    "sorted(zip(rf.feature_importances_, X_names), reverse=True)"
   ]
  },
  {
   "cell_type": "markdown",
   "metadata": {},
   "source": [
    "# Hyperparameter Tuning\n",
    "\n",
    "Use `GridSearchCV` to tune the model's parameters"
   ]
  },
  {
   "cell_type": "code",
   "execution_count": 15,
   "metadata": {},
   "outputs": [
    {
     "name": "stdout",
     "output_type": "stream",
     "text": [
      "dict_keys(['bootstrap', 'ccp_alpha', 'class_weight', 'criterion', 'max_depth', 'max_features', 'max_leaf_nodes', 'max_samples', 'min_impurity_decrease', 'min_impurity_split', 'min_samples_leaf', 'min_samples_split', 'min_weight_fraction_leaf', 'n_estimators', 'n_jobs', 'oob_score', 'random_state', 'verbose', 'warm_start'])\n"
     ]
    }
   ],
   "source": [
    "# Create the GridSearchCV model\n",
    "from sklearn.model_selection import GridSearchCV\n",
    "param_grid = {'min_samples_leaf': [3, 4, 5],\n",
    "              'min_samples_split': [8, 10, 12],\n",
    "              'n_estimators': [100, 200, 300, 1000]}\n",
    "grid = GridSearchCV(rf, param_grid, verbose=3)\n",
    "print(rf.get_params().keys())"
   ]
  },
  {
   "cell_type": "code",
   "execution_count": 16,
   "metadata": {},
   "outputs": [
    {
     "name": "stdout",
     "output_type": "stream",
     "text": [
      "Fitting 5 folds for each of 36 candidates, totalling 180 fits\n",
      "[CV] min_samples_leaf=3, min_samples_split=8, n_estimators=100 .......\n"
     ]
    },
    {
     "name": "stderr",
     "output_type": "stream",
     "text": [
      "[Parallel(n_jobs=1)]: Using backend SequentialBackend with 1 concurrent workers.\n"
     ]
    },
    {
     "name": "stdout",
     "output_type": "stream",
     "text": [
      "[CV]  min_samples_leaf=3, min_samples_split=8, n_estimators=100, score=0.721, total=   0.6s\n",
      "[CV] min_samples_leaf=3, min_samples_split=8, n_estimators=100 .......\n"
     ]
    },
    {
     "name": "stderr",
     "output_type": "stream",
     "text": [
      "[Parallel(n_jobs=1)]: Done   1 out of   1 | elapsed:    0.5s remaining:    0.0s\n"
     ]
    },
    {
     "name": "stdout",
     "output_type": "stream",
     "text": [
      "[CV]  min_samples_leaf=3, min_samples_split=8, n_estimators=100, score=0.732, total=   0.5s\n",
      "[CV] min_samples_leaf=3, min_samples_split=8, n_estimators=100 .......\n"
     ]
    },
    {
     "name": "stderr",
     "output_type": "stream",
     "text": [
      "[Parallel(n_jobs=1)]: Done   2 out of   2 | elapsed:    1.0s remaining:    0.0s\n"
     ]
    },
    {
     "name": "stdout",
     "output_type": "stream",
     "text": [
      "[CV]  min_samples_leaf=3, min_samples_split=8, n_estimators=100, score=0.715, total=   0.5s\n",
      "[CV] min_samples_leaf=3, min_samples_split=8, n_estimators=100 .......\n",
      "[CV]  min_samples_leaf=3, min_samples_split=8, n_estimators=100, score=0.718, total=   0.5s\n",
      "[CV] min_samples_leaf=3, min_samples_split=8, n_estimators=100 .......\n",
      "[CV]  min_samples_leaf=3, min_samples_split=8, n_estimators=100, score=0.698, total=   0.6s\n",
      "[CV] min_samples_leaf=3, min_samples_split=8, n_estimators=200 .......\n",
      "[CV]  min_samples_leaf=3, min_samples_split=8, n_estimators=200, score=0.716, total=   1.0s\n",
      "[CV] min_samples_leaf=3, min_samples_split=8, n_estimators=200 .......\n",
      "[CV]  min_samples_leaf=3, min_samples_split=8, n_estimators=200, score=0.722, total=   1.0s\n",
      "[CV] min_samples_leaf=3, min_samples_split=8, n_estimators=200 .......\n",
      "[CV]  min_samples_leaf=3, min_samples_split=8, n_estimators=200, score=0.724, total=   1.0s\n",
      "[CV] min_samples_leaf=3, min_samples_split=8, n_estimators=200 .......\n",
      "[CV]  min_samples_leaf=3, min_samples_split=8, n_estimators=200, score=0.719, total=   1.0s\n",
      "[CV] min_samples_leaf=3, min_samples_split=8, n_estimators=200 .......\n",
      "[CV]  min_samples_leaf=3, min_samples_split=8, n_estimators=200, score=0.697, total=   1.0s\n",
      "[CV] min_samples_leaf=3, min_samples_split=8, n_estimators=300 .......\n",
      "[CV]  min_samples_leaf=3, min_samples_split=8, n_estimators=300, score=0.717, total=   1.5s\n",
      "[CV] min_samples_leaf=3, min_samples_split=8, n_estimators=300 .......\n",
      "[CV]  min_samples_leaf=3, min_samples_split=8, n_estimators=300, score=0.729, total=   1.5s\n",
      "[CV] min_samples_leaf=3, min_samples_split=8, n_estimators=300 .......\n",
      "[CV]  min_samples_leaf=3, min_samples_split=8, n_estimators=300, score=0.724, total=   1.5s\n",
      "[CV] min_samples_leaf=3, min_samples_split=8, n_estimators=300 .......\n",
      "[CV]  min_samples_leaf=3, min_samples_split=8, n_estimators=300, score=0.720, total=   1.6s\n",
      "[CV] min_samples_leaf=3, min_samples_split=8, n_estimators=300 .......\n",
      "[CV]  min_samples_leaf=3, min_samples_split=8, n_estimators=300, score=0.690, total=   1.6s\n",
      "[CV] min_samples_leaf=3, min_samples_split=8, n_estimators=1000 ......\n",
      "[CV]  min_samples_leaf=3, min_samples_split=8, n_estimators=1000, score=0.721, total=   5.1s\n",
      "[CV] min_samples_leaf=3, min_samples_split=8, n_estimators=1000 ......\n",
      "[CV]  min_samples_leaf=3, min_samples_split=8, n_estimators=1000, score=0.726, total=   5.3s\n",
      "[CV] min_samples_leaf=3, min_samples_split=8, n_estimators=1000 ......\n",
      "[CV]  min_samples_leaf=3, min_samples_split=8, n_estimators=1000, score=0.727, total=   5.1s\n",
      "[CV] min_samples_leaf=3, min_samples_split=8, n_estimators=1000 ......\n",
      "[CV]  min_samples_leaf=3, min_samples_split=8, n_estimators=1000, score=0.723, total=   5.2s\n",
      "[CV] min_samples_leaf=3, min_samples_split=8, n_estimators=1000 ......\n",
      "[CV]  min_samples_leaf=3, min_samples_split=8, n_estimators=1000, score=0.697, total=   5.3s\n",
      "[CV] min_samples_leaf=3, min_samples_split=10, n_estimators=100 ......\n",
      "[CV]  min_samples_leaf=3, min_samples_split=10, n_estimators=100, score=0.722, total=   0.5s\n",
      "[CV] min_samples_leaf=3, min_samples_split=10, n_estimators=100 ......\n",
      "[CV]  min_samples_leaf=3, min_samples_split=10, n_estimators=100, score=0.715, total=   0.5s\n",
      "[CV] min_samples_leaf=3, min_samples_split=10, n_estimators=100 ......\n",
      "[CV]  min_samples_leaf=3, min_samples_split=10, n_estimators=100, score=0.725, total=   0.5s\n",
      "[CV] min_samples_leaf=3, min_samples_split=10, n_estimators=100 ......\n",
      "[CV]  min_samples_leaf=3, min_samples_split=10, n_estimators=100, score=0.718, total=   0.6s\n",
      "[CV] min_samples_leaf=3, min_samples_split=10, n_estimators=100 ......\n",
      "[CV]  min_samples_leaf=3, min_samples_split=10, n_estimators=100, score=0.688, total=   0.6s\n",
      "[CV] min_samples_leaf=3, min_samples_split=10, n_estimators=200 ......\n",
      "[CV]  min_samples_leaf=3, min_samples_split=10, n_estimators=200, score=0.716, total=   1.1s\n",
      "[CV] min_samples_leaf=3, min_samples_split=10, n_estimators=200 ......\n",
      "[CV]  min_samples_leaf=3, min_samples_split=10, n_estimators=200, score=0.731, total=   1.1s\n",
      "[CV] min_samples_leaf=3, min_samples_split=10, n_estimators=200 ......\n",
      "[CV]  min_samples_leaf=3, min_samples_split=10, n_estimators=200, score=0.722, total=   1.1s\n",
      "[CV] min_samples_leaf=3, min_samples_split=10, n_estimators=200 ......\n",
      "[CV]  min_samples_leaf=3, min_samples_split=10, n_estimators=200, score=0.729, total=   1.1s\n",
      "[CV] min_samples_leaf=3, min_samples_split=10, n_estimators=200 ......\n",
      "[CV]  min_samples_leaf=3, min_samples_split=10, n_estimators=200, score=0.699, total=   1.0s\n",
      "[CV] min_samples_leaf=3, min_samples_split=10, n_estimators=300 ......\n",
      "[CV]  min_samples_leaf=3, min_samples_split=10, n_estimators=300, score=0.722, total=   1.6s\n",
      "[CV] min_samples_leaf=3, min_samples_split=10, n_estimators=300 ......\n",
      "[CV]  min_samples_leaf=3, min_samples_split=10, n_estimators=300, score=0.728, total=   1.5s\n",
      "[CV] min_samples_leaf=3, min_samples_split=10, n_estimators=300 ......\n",
      "[CV]  min_samples_leaf=3, min_samples_split=10, n_estimators=300, score=0.724, total=   1.5s\n",
      "[CV] min_samples_leaf=3, min_samples_split=10, n_estimators=300 ......\n",
      "[CV]  min_samples_leaf=3, min_samples_split=10, n_estimators=300, score=0.720, total=   1.6s\n",
      "[CV] min_samples_leaf=3, min_samples_split=10, n_estimators=300 ......\n",
      "[CV]  min_samples_leaf=3, min_samples_split=10, n_estimators=300, score=0.690, total=   1.6s\n",
      "[CV] min_samples_leaf=3, min_samples_split=10, n_estimators=1000 .....\n",
      "[CV]  min_samples_leaf=3, min_samples_split=10, n_estimators=1000, score=0.717, total=   5.5s\n",
      "[CV] min_samples_leaf=3, min_samples_split=10, n_estimators=1000 .....\n",
      "[CV]  min_samples_leaf=3, min_samples_split=10, n_estimators=1000, score=0.726, total=   5.6s\n",
      "[CV] min_samples_leaf=3, min_samples_split=10, n_estimators=1000 .....\n",
      "[CV]  min_samples_leaf=3, min_samples_split=10, n_estimators=1000, score=0.726, total=   5.8s\n",
      "[CV] min_samples_leaf=3, min_samples_split=10, n_estimators=1000 .....\n",
      "[CV]  min_samples_leaf=3, min_samples_split=10, n_estimators=1000, score=0.720, total=   5.8s\n",
      "[CV] min_samples_leaf=3, min_samples_split=10, n_estimators=1000 .....\n",
      "[CV]  min_samples_leaf=3, min_samples_split=10, n_estimators=1000, score=0.696, total=   5.9s\n",
      "[CV] min_samples_leaf=3, min_samples_split=12, n_estimators=100 ......\n",
      "[CV]  min_samples_leaf=3, min_samples_split=12, n_estimators=100, score=0.713, total=   0.5s\n",
      "[CV] min_samples_leaf=3, min_samples_split=12, n_estimators=100 ......\n",
      "[CV]  min_samples_leaf=3, min_samples_split=12, n_estimators=100, score=0.717, total=   0.5s\n",
      "[CV] min_samples_leaf=3, min_samples_split=12, n_estimators=100 ......\n",
      "[CV]  min_samples_leaf=3, min_samples_split=12, n_estimators=100, score=0.726, total=   0.5s\n",
      "[CV] min_samples_leaf=3, min_samples_split=12, n_estimators=100 ......\n",
      "[CV]  min_samples_leaf=3, min_samples_split=12, n_estimators=100, score=0.715, total=   0.5s\n",
      "[CV] min_samples_leaf=3, min_samples_split=12, n_estimators=100 ......\n",
      "[CV]  min_samples_leaf=3, min_samples_split=12, n_estimators=100, score=0.687, total=   0.5s\n",
      "[CV] min_samples_leaf=3, min_samples_split=12, n_estimators=200 ......\n",
      "[CV]  min_samples_leaf=3, min_samples_split=12, n_estimators=200, score=0.710, total=   1.0s\n",
      "[CV] min_samples_leaf=3, min_samples_split=12, n_estimators=200 ......\n",
      "[CV]  min_samples_leaf=3, min_samples_split=12, n_estimators=200, score=0.728, total=   1.1s\n",
      "[CV] min_samples_leaf=3, min_samples_split=12, n_estimators=200 ......\n",
      "[CV]  min_samples_leaf=3, min_samples_split=12, n_estimators=200, score=0.721, total=   1.0s\n",
      "[CV] min_samples_leaf=3, min_samples_split=12, n_estimators=200 ......\n",
      "[CV]  min_samples_leaf=3, min_samples_split=12, n_estimators=200, score=0.725, total=   1.0s\n",
      "[CV] min_samples_leaf=3, min_samples_split=12, n_estimators=200 ......\n",
      "[CV]  min_samples_leaf=3, min_samples_split=12, n_estimators=200, score=0.691, total=   1.0s\n",
      "[CV] min_samples_leaf=3, min_samples_split=12, n_estimators=300 ......\n",
      "[CV]  min_samples_leaf=3, min_samples_split=12, n_estimators=300, score=0.717, total=   1.6s\n",
      "[CV] min_samples_leaf=3, min_samples_split=12, n_estimators=300 ......\n",
      "[CV]  min_samples_leaf=3, min_samples_split=12, n_estimators=300, score=0.731, total=   1.6s\n",
      "[CV] min_samples_leaf=3, min_samples_split=12, n_estimators=300 ......\n",
      "[CV]  min_samples_leaf=3, min_samples_split=12, n_estimators=300, score=0.720, total=   1.6s\n",
      "[CV] min_samples_leaf=3, min_samples_split=12, n_estimators=300 ......\n"
     ]
    },
    {
     "name": "stdout",
     "output_type": "stream",
     "text": [
      "[CV]  min_samples_leaf=3, min_samples_split=12, n_estimators=300, score=0.723, total=   1.6s\n",
      "[CV] min_samples_leaf=3, min_samples_split=12, n_estimators=300 ......\n",
      "[CV]  min_samples_leaf=3, min_samples_split=12, n_estimators=300, score=0.691, total=   1.7s\n",
      "[CV] min_samples_leaf=3, min_samples_split=12, n_estimators=1000 .....\n",
      "[CV]  min_samples_leaf=3, min_samples_split=12, n_estimators=1000, score=0.714, total=   5.4s\n",
      "[CV] min_samples_leaf=3, min_samples_split=12, n_estimators=1000 .....\n",
      "[CV]  min_samples_leaf=3, min_samples_split=12, n_estimators=1000, score=0.733, total=   5.2s\n",
      "[CV] min_samples_leaf=3, min_samples_split=12, n_estimators=1000 .....\n",
      "[CV]  min_samples_leaf=3, min_samples_split=12, n_estimators=1000, score=0.725, total=   5.2s\n",
      "[CV] min_samples_leaf=3, min_samples_split=12, n_estimators=1000 .....\n",
      "[CV]  min_samples_leaf=3, min_samples_split=12, n_estimators=1000, score=0.720, total=   5.6s\n",
      "[CV] min_samples_leaf=3, min_samples_split=12, n_estimators=1000 .....\n",
      "[CV]  min_samples_leaf=3, min_samples_split=12, n_estimators=1000, score=0.692, total=   5.3s\n",
      "[CV] min_samples_leaf=4, min_samples_split=8, n_estimators=100 .......\n",
      "[CV]  min_samples_leaf=4, min_samples_split=8, n_estimators=100, score=0.714, total=   0.5s\n",
      "[CV] min_samples_leaf=4, min_samples_split=8, n_estimators=100 .......\n",
      "[CV]  min_samples_leaf=4, min_samples_split=8, n_estimators=100, score=0.724, total=   0.5s\n",
      "[CV] min_samples_leaf=4, min_samples_split=8, n_estimators=100 .......\n",
      "[CV]  min_samples_leaf=4, min_samples_split=8, n_estimators=100, score=0.720, total=   0.5s\n",
      "[CV] min_samples_leaf=4, min_samples_split=8, n_estimators=100 .......\n",
      "[CV]  min_samples_leaf=4, min_samples_split=8, n_estimators=100, score=0.719, total=   0.5s\n",
      "[CV] min_samples_leaf=4, min_samples_split=8, n_estimators=100 .......\n",
      "[CV]  min_samples_leaf=4, min_samples_split=8, n_estimators=100, score=0.694, total=   0.5s\n",
      "[CV] min_samples_leaf=4, min_samples_split=8, n_estimators=200 .......\n",
      "[CV]  min_samples_leaf=4, min_samples_split=8, n_estimators=200, score=0.716, total=   1.0s\n",
      "[CV] min_samples_leaf=4, min_samples_split=8, n_estimators=200 .......\n",
      "[CV]  min_samples_leaf=4, min_samples_split=8, n_estimators=200, score=0.729, total=   1.1s\n",
      "[CV] min_samples_leaf=4, min_samples_split=8, n_estimators=200 .......\n",
      "[CV]  min_samples_leaf=4, min_samples_split=8, n_estimators=200, score=0.716, total=   1.0s\n",
      "[CV] min_samples_leaf=4, min_samples_split=8, n_estimators=200 .......\n",
      "[CV]  min_samples_leaf=4, min_samples_split=8, n_estimators=200, score=0.714, total=   1.0s\n",
      "[CV] min_samples_leaf=4, min_samples_split=8, n_estimators=200 .......\n",
      "[CV]  min_samples_leaf=4, min_samples_split=8, n_estimators=200, score=0.695, total=   1.1s\n",
      "[CV] min_samples_leaf=4, min_samples_split=8, n_estimators=300 .......\n",
      "[CV]  min_samples_leaf=4, min_samples_split=8, n_estimators=300, score=0.717, total=   1.5s\n",
      "[CV] min_samples_leaf=4, min_samples_split=8, n_estimators=300 .......\n",
      "[CV]  min_samples_leaf=4, min_samples_split=8, n_estimators=300, score=0.729, total=   1.6s\n",
      "[CV] min_samples_leaf=4, min_samples_split=8, n_estimators=300 .......\n",
      "[CV]  min_samples_leaf=4, min_samples_split=8, n_estimators=300, score=0.720, total=   1.6s\n",
      "[CV] min_samples_leaf=4, min_samples_split=8, n_estimators=300 .......\n",
      "[CV]  min_samples_leaf=4, min_samples_split=8, n_estimators=300, score=0.721, total=   1.6s\n",
      "[CV] min_samples_leaf=4, min_samples_split=8, n_estimators=300 .......\n",
      "[CV]  min_samples_leaf=4, min_samples_split=8, n_estimators=300, score=0.697, total=   1.6s\n",
      "[CV] min_samples_leaf=4, min_samples_split=8, n_estimators=1000 ......\n",
      "[CV]  min_samples_leaf=4, min_samples_split=8, n_estimators=1000, score=0.721, total=   5.2s\n",
      "[CV] min_samples_leaf=4, min_samples_split=8, n_estimators=1000 ......\n",
      "[CV]  min_samples_leaf=4, min_samples_split=8, n_estimators=1000, score=0.735, total=   5.2s\n",
      "[CV] min_samples_leaf=4, min_samples_split=8, n_estimators=1000 ......\n",
      "[CV]  min_samples_leaf=4, min_samples_split=8, n_estimators=1000, score=0.721, total=   5.5s\n",
      "[CV] min_samples_leaf=4, min_samples_split=8, n_estimators=1000 ......\n",
      "[CV]  min_samples_leaf=4, min_samples_split=8, n_estimators=1000, score=0.718, total=   5.5s\n",
      "[CV] min_samples_leaf=4, min_samples_split=8, n_estimators=1000 ......\n",
      "[CV]  min_samples_leaf=4, min_samples_split=8, n_estimators=1000, score=0.692, total=   5.4s\n",
      "[CV] min_samples_leaf=4, min_samples_split=10, n_estimators=100 ......\n",
      "[CV]  min_samples_leaf=4, min_samples_split=10, n_estimators=100, score=0.718, total=   0.5s\n",
      "[CV] min_samples_leaf=4, min_samples_split=10, n_estimators=100 ......\n",
      "[CV]  min_samples_leaf=4, min_samples_split=10, n_estimators=100, score=0.725, total=   0.5s\n",
      "[CV] min_samples_leaf=4, min_samples_split=10, n_estimators=100 ......\n",
      "[CV]  min_samples_leaf=4, min_samples_split=10, n_estimators=100, score=0.723, total=   0.5s\n",
      "[CV] min_samples_leaf=4, min_samples_split=10, n_estimators=100 ......\n",
      "[CV]  min_samples_leaf=4, min_samples_split=10, n_estimators=100, score=0.716, total=   0.5s\n",
      "[CV] min_samples_leaf=4, min_samples_split=10, n_estimators=100 ......\n",
      "[CV]  min_samples_leaf=4, min_samples_split=10, n_estimators=100, score=0.688, total=   0.5s\n",
      "[CV] min_samples_leaf=4, min_samples_split=10, n_estimators=200 ......\n",
      "[CV]  min_samples_leaf=4, min_samples_split=10, n_estimators=200, score=0.712, total=   1.1s\n",
      "[CV] min_samples_leaf=4, min_samples_split=10, n_estimators=200 ......\n",
      "[CV]  min_samples_leaf=4, min_samples_split=10, n_estimators=200, score=0.726, total=   1.0s\n",
      "[CV] min_samples_leaf=4, min_samples_split=10, n_estimators=200 ......\n",
      "[CV]  min_samples_leaf=4, min_samples_split=10, n_estimators=200, score=0.728, total=   1.1s\n",
      "[CV] min_samples_leaf=4, min_samples_split=10, n_estimators=200 ......\n",
      "[CV]  min_samples_leaf=4, min_samples_split=10, n_estimators=200, score=0.715, total=   1.0s\n",
      "[CV] min_samples_leaf=4, min_samples_split=10, n_estimators=200 ......\n",
      "[CV]  min_samples_leaf=4, min_samples_split=10, n_estimators=200, score=0.689, total=   1.0s\n",
      "[CV] min_samples_leaf=4, min_samples_split=10, n_estimators=300 ......\n",
      "[CV]  min_samples_leaf=4, min_samples_split=10, n_estimators=300, score=0.720, total=   1.6s\n",
      "[CV] min_samples_leaf=4, min_samples_split=10, n_estimators=300 ......\n",
      "[CV]  min_samples_leaf=4, min_samples_split=10, n_estimators=300, score=0.726, total=   1.6s\n",
      "[CV] min_samples_leaf=4, min_samples_split=10, n_estimators=300 ......\n",
      "[CV]  min_samples_leaf=4, min_samples_split=10, n_estimators=300, score=0.724, total=   1.6s\n",
      "[CV] min_samples_leaf=4, min_samples_split=10, n_estimators=300 ......\n",
      "[CV]  min_samples_leaf=4, min_samples_split=10, n_estimators=300, score=0.719, total=   1.6s\n",
      "[CV] min_samples_leaf=4, min_samples_split=10, n_estimators=300 ......\n",
      "[CV]  min_samples_leaf=4, min_samples_split=10, n_estimators=300, score=0.690, total=   1.6s\n",
      "[CV] min_samples_leaf=4, min_samples_split=10, n_estimators=1000 .....\n",
      "[CV]  min_samples_leaf=4, min_samples_split=10, n_estimators=1000, score=0.715, total=   6.1s\n",
      "[CV] min_samples_leaf=4, min_samples_split=10, n_estimators=1000 .....\n",
      "[CV]  min_samples_leaf=4, min_samples_split=10, n_estimators=1000, score=0.728, total=   6.1s\n",
      "[CV] min_samples_leaf=4, min_samples_split=10, n_estimators=1000 .....\n",
      "[CV]  min_samples_leaf=4, min_samples_split=10, n_estimators=1000, score=0.723, total=   6.3s\n",
      "[CV] min_samples_leaf=4, min_samples_split=10, n_estimators=1000 .....\n",
      "[CV]  min_samples_leaf=4, min_samples_split=10, n_estimators=1000, score=0.717, total=   5.5s\n",
      "[CV] min_samples_leaf=4, min_samples_split=10, n_estimators=1000 .....\n",
      "[CV]  min_samples_leaf=4, min_samples_split=10, n_estimators=1000, score=0.696, total=   5.3s\n",
      "[CV] min_samples_leaf=4, min_samples_split=12, n_estimators=100 ......\n",
      "[CV]  min_samples_leaf=4, min_samples_split=12, n_estimators=100, score=0.712, total=   0.6s\n",
      "[CV] min_samples_leaf=4, min_samples_split=12, n_estimators=100 ......\n",
      "[CV]  min_samples_leaf=4, min_samples_split=12, n_estimators=100, score=0.724, total=   0.5s\n",
      "[CV] min_samples_leaf=4, min_samples_split=12, n_estimators=100 ......\n",
      "[CV]  min_samples_leaf=4, min_samples_split=12, n_estimators=100, score=0.725, total=   0.5s\n",
      "[CV] min_samples_leaf=4, min_samples_split=12, n_estimators=100 ......\n"
     ]
    },
    {
     "name": "stdout",
     "output_type": "stream",
     "text": [
      "[CV]  min_samples_leaf=4, min_samples_split=12, n_estimators=100, score=0.715, total=   0.5s\n",
      "[CV] min_samples_leaf=4, min_samples_split=12, n_estimators=100 ......\n",
      "[CV]  min_samples_leaf=4, min_samples_split=12, n_estimators=100, score=0.696, total=   0.5s\n",
      "[CV] min_samples_leaf=4, min_samples_split=12, n_estimators=200 ......\n",
      "[CV]  min_samples_leaf=4, min_samples_split=12, n_estimators=200, score=0.716, total=   1.0s\n",
      "[CV] min_samples_leaf=4, min_samples_split=12, n_estimators=200 ......\n",
      "[CV]  min_samples_leaf=4, min_samples_split=12, n_estimators=200, score=0.725, total=   1.0s\n",
      "[CV] min_samples_leaf=4, min_samples_split=12, n_estimators=200 ......\n",
      "[CV]  min_samples_leaf=4, min_samples_split=12, n_estimators=200, score=0.720, total=   1.1s\n",
      "[CV] min_samples_leaf=4, min_samples_split=12, n_estimators=200 ......\n",
      "[CV]  min_samples_leaf=4, min_samples_split=12, n_estimators=200, score=0.726, total=   1.0s\n",
      "[CV] min_samples_leaf=4, min_samples_split=12, n_estimators=200 ......\n",
      "[CV]  min_samples_leaf=4, min_samples_split=12, n_estimators=200, score=0.690, total=   1.0s\n",
      "[CV] min_samples_leaf=4, min_samples_split=12, n_estimators=300 ......\n",
      "[CV]  min_samples_leaf=4, min_samples_split=12, n_estimators=300, score=0.721, total=   1.5s\n",
      "[CV] min_samples_leaf=4, min_samples_split=12, n_estimators=300 ......\n",
      "[CV]  min_samples_leaf=4, min_samples_split=12, n_estimators=300, score=0.733, total=   1.6s\n",
      "[CV] min_samples_leaf=4, min_samples_split=12, n_estimators=300 ......\n",
      "[CV]  min_samples_leaf=4, min_samples_split=12, n_estimators=300, score=0.724, total=   1.6s\n",
      "[CV] min_samples_leaf=4, min_samples_split=12, n_estimators=300 ......\n",
      "[CV]  min_samples_leaf=4, min_samples_split=12, n_estimators=300, score=0.715, total=   1.5s\n",
      "[CV] min_samples_leaf=4, min_samples_split=12, n_estimators=300 ......\n",
      "[CV]  min_samples_leaf=4, min_samples_split=12, n_estimators=300, score=0.688, total=   1.6s\n",
      "[CV] min_samples_leaf=4, min_samples_split=12, n_estimators=1000 .....\n",
      "[CV]  min_samples_leaf=4, min_samples_split=12, n_estimators=1000, score=0.718, total=   5.2s\n",
      "[CV] min_samples_leaf=4, min_samples_split=12, n_estimators=1000 .....\n",
      "[CV]  min_samples_leaf=4, min_samples_split=12, n_estimators=1000, score=0.727, total=   5.3s\n",
      "[CV] min_samples_leaf=4, min_samples_split=12, n_estimators=1000 .....\n",
      "[CV]  min_samples_leaf=4, min_samples_split=12, n_estimators=1000, score=0.719, total=   5.2s\n",
      "[CV] min_samples_leaf=4, min_samples_split=12, n_estimators=1000 .....\n",
      "[CV]  min_samples_leaf=4, min_samples_split=12, n_estimators=1000, score=0.717, total=   5.3s\n",
      "[CV] min_samples_leaf=4, min_samples_split=12, n_estimators=1000 .....\n",
      "[CV]  min_samples_leaf=4, min_samples_split=12, n_estimators=1000, score=0.695, total=   5.5s\n",
      "[CV] min_samples_leaf=5, min_samples_split=8, n_estimators=100 .......\n",
      "[CV]  min_samples_leaf=5, min_samples_split=8, n_estimators=100, score=0.706, total=   0.6s\n",
      "[CV] min_samples_leaf=5, min_samples_split=8, n_estimators=100 .......\n",
      "[CV]  min_samples_leaf=5, min_samples_split=8, n_estimators=100, score=0.729, total=   0.6s\n",
      "[CV] min_samples_leaf=5, min_samples_split=8, n_estimators=100 .......\n",
      "[CV]  min_samples_leaf=5, min_samples_split=8, n_estimators=100, score=0.720, total=   0.5s\n",
      "[CV] min_samples_leaf=5, min_samples_split=8, n_estimators=100 .......\n",
      "[CV]  min_samples_leaf=5, min_samples_split=8, n_estimators=100, score=0.716, total=   0.5s\n",
      "[CV] min_samples_leaf=5, min_samples_split=8, n_estimators=100 .......\n",
      "[CV]  min_samples_leaf=5, min_samples_split=8, n_estimators=100, score=0.697, total=   0.5s\n",
      "[CV] min_samples_leaf=5, min_samples_split=8, n_estimators=200 .......\n",
      "[CV]  min_samples_leaf=5, min_samples_split=8, n_estimators=200, score=0.719, total=   1.0s\n",
      "[CV] min_samples_leaf=5, min_samples_split=8, n_estimators=200 .......\n",
      "[CV]  min_samples_leaf=5, min_samples_split=8, n_estimators=200, score=0.723, total=   1.0s\n",
      "[CV] min_samples_leaf=5, min_samples_split=8, n_estimators=200 .......\n",
      "[CV]  min_samples_leaf=5, min_samples_split=8, n_estimators=200, score=0.720, total=   1.0s\n",
      "[CV] min_samples_leaf=5, min_samples_split=8, n_estimators=200 .......\n",
      "[CV]  min_samples_leaf=5, min_samples_split=8, n_estimators=200, score=0.711, total=   1.0s\n",
      "[CV] min_samples_leaf=5, min_samples_split=8, n_estimators=200 .......\n",
      "[CV]  min_samples_leaf=5, min_samples_split=8, n_estimators=200, score=0.689, total=   1.0s\n",
      "[CV] min_samples_leaf=5, min_samples_split=8, n_estimators=300 .......\n",
      "[CV]  min_samples_leaf=5, min_samples_split=8, n_estimators=300, score=0.717, total=   1.5s\n",
      "[CV] min_samples_leaf=5, min_samples_split=8, n_estimators=300 .......\n",
      "[CV]  min_samples_leaf=5, min_samples_split=8, n_estimators=300, score=0.726, total=   1.5s\n",
      "[CV] min_samples_leaf=5, min_samples_split=8, n_estimators=300 .......\n",
      "[CV]  min_samples_leaf=5, min_samples_split=8, n_estimators=300, score=0.730, total=   1.5s\n",
      "[CV] min_samples_leaf=5, min_samples_split=8, n_estimators=300 .......\n",
      "[CV]  min_samples_leaf=5, min_samples_split=8, n_estimators=300, score=0.719, total=   1.5s\n",
      "[CV] min_samples_leaf=5, min_samples_split=8, n_estimators=300 .......\n",
      "[CV]  min_samples_leaf=5, min_samples_split=8, n_estimators=300, score=0.685, total=   1.5s\n",
      "[CV] min_samples_leaf=5, min_samples_split=8, n_estimators=1000 ......\n",
      "[CV]  min_samples_leaf=5, min_samples_split=8, n_estimators=1000, score=0.716, total=   5.2s\n",
      "[CV] min_samples_leaf=5, min_samples_split=8, n_estimators=1000 ......\n",
      "[CV]  min_samples_leaf=5, min_samples_split=8, n_estimators=1000, score=0.725, total=   5.3s\n",
      "[CV] min_samples_leaf=5, min_samples_split=8, n_estimators=1000 ......\n",
      "[CV]  min_samples_leaf=5, min_samples_split=8, n_estimators=1000, score=0.725, total=   5.2s\n",
      "[CV] min_samples_leaf=5, min_samples_split=8, n_estimators=1000 ......\n",
      "[CV]  min_samples_leaf=5, min_samples_split=8, n_estimators=1000, score=0.719, total=   5.3s\n",
      "[CV] min_samples_leaf=5, min_samples_split=8, n_estimators=1000 ......\n",
      "[CV]  min_samples_leaf=5, min_samples_split=8, n_estimators=1000, score=0.686, total=   5.2s\n",
      "[CV] min_samples_leaf=5, min_samples_split=10, n_estimators=100 ......\n",
      "[CV]  min_samples_leaf=5, min_samples_split=10, n_estimators=100, score=0.711, total=   0.5s\n",
      "[CV] min_samples_leaf=5, min_samples_split=10, n_estimators=100 ......\n",
      "[CV]  min_samples_leaf=5, min_samples_split=10, n_estimators=100, score=0.729, total=   0.5s\n",
      "[CV] min_samples_leaf=5, min_samples_split=10, n_estimators=100 ......\n",
      "[CV]  min_samples_leaf=5, min_samples_split=10, n_estimators=100, score=0.720, total=   0.5s\n",
      "[CV] min_samples_leaf=5, min_samples_split=10, n_estimators=100 ......\n",
      "[CV]  min_samples_leaf=5, min_samples_split=10, n_estimators=100, score=0.719, total=   0.5s\n",
      "[CV] min_samples_leaf=5, min_samples_split=10, n_estimators=100 ......\n",
      "[CV]  min_samples_leaf=5, min_samples_split=10, n_estimators=100, score=0.679, total=   0.5s\n",
      "[CV] min_samples_leaf=5, min_samples_split=10, n_estimators=200 ......\n",
      "[CV]  min_samples_leaf=5, min_samples_split=10, n_estimators=200, score=0.718, total=   1.1s\n",
      "[CV] min_samples_leaf=5, min_samples_split=10, n_estimators=200 ......\n",
      "[CV]  min_samples_leaf=5, min_samples_split=10, n_estimators=200, score=0.731, total=   1.0s\n",
      "[CV] min_samples_leaf=5, min_samples_split=10, n_estimators=200 ......\n",
      "[CV]  min_samples_leaf=5, min_samples_split=10, n_estimators=200, score=0.721, total=   1.1s\n",
      "[CV] min_samples_leaf=5, min_samples_split=10, n_estimators=200 ......\n",
      "[CV]  min_samples_leaf=5, min_samples_split=10, n_estimators=200, score=0.711, total=   1.1s\n",
      "[CV] min_samples_leaf=5, min_samples_split=10, n_estimators=200 ......\n",
      "[CV]  min_samples_leaf=5, min_samples_split=10, n_estimators=200, score=0.683, total=   1.1s\n",
      "[CV] min_samples_leaf=5, min_samples_split=10, n_estimators=300 ......\n",
      "[CV]  min_samples_leaf=5, min_samples_split=10, n_estimators=300, score=0.712, total=   1.7s\n",
      "[CV] min_samples_leaf=5, min_samples_split=10, n_estimators=300 ......\n",
      "[CV]  min_samples_leaf=5, min_samples_split=10, n_estimators=300, score=0.724, total=   1.8s\n",
      "[CV] min_samples_leaf=5, min_samples_split=10, n_estimators=300 ......\n",
      "[CV]  min_samples_leaf=5, min_samples_split=10, n_estimators=300, score=0.720, total=   1.9s\n",
      "[CV] min_samples_leaf=5, min_samples_split=10, n_estimators=300 ......\n",
      "[CV]  min_samples_leaf=5, min_samples_split=10, n_estimators=300, score=0.713, total=   1.8s\n",
      "[CV] min_samples_leaf=5, min_samples_split=10, n_estimators=300 ......\n"
     ]
    },
    {
     "name": "stdout",
     "output_type": "stream",
     "text": [
      "[CV]  min_samples_leaf=5, min_samples_split=10, n_estimators=300, score=0.688, total=   1.7s\n",
      "[CV] min_samples_leaf=5, min_samples_split=10, n_estimators=1000 .....\n",
      "[CV]  min_samples_leaf=5, min_samples_split=10, n_estimators=1000, score=0.723, total=   6.0s\n",
      "[CV] min_samples_leaf=5, min_samples_split=10, n_estimators=1000 .....\n",
      "[CV]  min_samples_leaf=5, min_samples_split=10, n_estimators=1000, score=0.734, total=   6.0s\n",
      "[CV] min_samples_leaf=5, min_samples_split=10, n_estimators=1000 .....\n",
      "[CV]  min_samples_leaf=5, min_samples_split=10, n_estimators=1000, score=0.723, total=   5.7s\n",
      "[CV] min_samples_leaf=5, min_samples_split=10, n_estimators=1000 .....\n",
      "[CV]  min_samples_leaf=5, min_samples_split=10, n_estimators=1000, score=0.720, total=   5.4s\n",
      "[CV] min_samples_leaf=5, min_samples_split=10, n_estimators=1000 .....\n",
      "[CV]  min_samples_leaf=5, min_samples_split=10, n_estimators=1000, score=0.690, total=   5.3s\n",
      "[CV] min_samples_leaf=5, min_samples_split=12, n_estimators=100 ......\n",
      "[CV]  min_samples_leaf=5, min_samples_split=12, n_estimators=100, score=0.711, total=   0.5s\n",
      "[CV] min_samples_leaf=5, min_samples_split=12, n_estimators=100 ......\n",
      "[CV]  min_samples_leaf=5, min_samples_split=12, n_estimators=100, score=0.720, total=   0.5s\n",
      "[CV] min_samples_leaf=5, min_samples_split=12, n_estimators=100 ......\n",
      "[CV]  min_samples_leaf=5, min_samples_split=12, n_estimators=100, score=0.727, total=   0.5s\n",
      "[CV] min_samples_leaf=5, min_samples_split=12, n_estimators=100 ......\n",
      "[CV]  min_samples_leaf=5, min_samples_split=12, n_estimators=100, score=0.714, total=   0.5s\n",
      "[CV] min_samples_leaf=5, min_samples_split=12, n_estimators=100 ......\n",
      "[CV]  min_samples_leaf=5, min_samples_split=12, n_estimators=100, score=0.690, total=   0.5s\n",
      "[CV] min_samples_leaf=5, min_samples_split=12, n_estimators=200 ......\n",
      "[CV]  min_samples_leaf=5, min_samples_split=12, n_estimators=200, score=0.716, total=   1.0s\n",
      "[CV] min_samples_leaf=5, min_samples_split=12, n_estimators=200 ......\n",
      "[CV]  min_samples_leaf=5, min_samples_split=12, n_estimators=200, score=0.734, total=   1.0s\n",
      "[CV] min_samples_leaf=5, min_samples_split=12, n_estimators=200 ......\n",
      "[CV]  min_samples_leaf=5, min_samples_split=12, n_estimators=200, score=0.721, total=   1.0s\n",
      "[CV] min_samples_leaf=5, min_samples_split=12, n_estimators=200 ......\n",
      "[CV]  min_samples_leaf=5, min_samples_split=12, n_estimators=200, score=0.714, total=   1.1s\n",
      "[CV] min_samples_leaf=5, min_samples_split=12, n_estimators=200 ......\n",
      "[CV]  min_samples_leaf=5, min_samples_split=12, n_estimators=200, score=0.688, total=   1.1s\n",
      "[CV] min_samples_leaf=5, min_samples_split=12, n_estimators=300 ......\n",
      "[CV]  min_samples_leaf=5, min_samples_split=12, n_estimators=300, score=0.709, total=   1.6s\n",
      "[CV] min_samples_leaf=5, min_samples_split=12, n_estimators=300 ......\n",
      "[CV]  min_samples_leaf=5, min_samples_split=12, n_estimators=300, score=0.731, total=   1.6s\n",
      "[CV] min_samples_leaf=5, min_samples_split=12, n_estimators=300 ......\n",
      "[CV]  min_samples_leaf=5, min_samples_split=12, n_estimators=300, score=0.724, total=   1.5s\n",
      "[CV] min_samples_leaf=5, min_samples_split=12, n_estimators=300 ......\n",
      "[CV]  min_samples_leaf=5, min_samples_split=12, n_estimators=300, score=0.712, total=   1.5s\n",
      "[CV] min_samples_leaf=5, min_samples_split=12, n_estimators=300 ......\n",
      "[CV]  min_samples_leaf=5, min_samples_split=12, n_estimators=300, score=0.687, total=   1.5s\n",
      "[CV] min_samples_leaf=5, min_samples_split=12, n_estimators=1000 .....\n",
      "[CV]  min_samples_leaf=5, min_samples_split=12, n_estimators=1000, score=0.719, total=   5.1s\n",
      "[CV] min_samples_leaf=5, min_samples_split=12, n_estimators=1000 .....\n",
      "[CV]  min_samples_leaf=5, min_samples_split=12, n_estimators=1000, score=0.727, total=   5.1s\n",
      "[CV] min_samples_leaf=5, min_samples_split=12, n_estimators=1000 .....\n",
      "[CV]  min_samples_leaf=5, min_samples_split=12, n_estimators=1000, score=0.724, total=   5.0s\n",
      "[CV] min_samples_leaf=5, min_samples_split=12, n_estimators=1000 .....\n",
      "[CV]  min_samples_leaf=5, min_samples_split=12, n_estimators=1000, score=0.716, total=   5.1s\n",
      "[CV] min_samples_leaf=5, min_samples_split=12, n_estimators=1000 .....\n",
      "[CV]  min_samples_leaf=5, min_samples_split=12, n_estimators=1000, score=0.692, total=   5.2s\n"
     ]
    },
    {
     "name": "stderr",
     "output_type": "stream",
     "text": [
      "[Parallel(n_jobs=1)]: Done 180 out of 180 | elapsed:  6.5min finished\n"
     ]
    },
    {
     "data": {
      "text/plain": [
       "GridSearchCV(estimator=RandomForestClassifier(n_estimators=200),\n",
       "             param_grid={'min_samples_leaf': [3, 4, 5],\n",
       "                         'min_samples_split': [8, 10, 12],\n",
       "                         'n_estimators': [100, 200, 300, 1000]},\n",
       "             verbose=3)"
      ]
     },
     "execution_count": 16,
     "metadata": {},
     "output_type": "execute_result"
    }
   ],
   "source": [
    "# Train the model with GridSearch\n",
    "grid.fit(X_train_scaled, y_train)"
   ]
  },
  {
   "cell_type": "code",
   "execution_count": 17,
   "metadata": {},
   "outputs": [
    {
     "name": "stdout",
     "output_type": "stream",
     "text": [
      "{'min_samples_leaf': 3, 'min_samples_split': 10, 'n_estimators': 200}\n",
      "0.7194334480675889\n"
     ]
    }
   ],
   "source": [
    "#Print best params and their score\n",
    "print(grid.best_params_)\n",
    "print(grid.best_score_)"
   ]
  },
  {
   "cell_type": "code",
   "execution_count": 18,
   "metadata": {},
   "outputs": [
    {
     "data": {
      "text/plain": [
       "array(['FALSE POSITIVE', 'FALSE POSITIVE', 'FALSE POSITIVE', ...,\n",
       "       'FALSE POSITIVE', 'FALSE POSITIVE', 'FALSE POSITIVE'], dtype=object)"
      ]
     },
     "execution_count": 18,
     "metadata": {},
     "output_type": "execute_result"
    }
   ],
   "source": [
    "#Make predictions\n",
    "predictions = rf.predict(X_test_scaled)\n",
    "predictions"
   ]
  },
  {
   "cell_type": "code",
   "execution_count": 19,
   "metadata": {},
   "outputs": [
    {
     "name": "stdout",
     "output_type": "stream",
     "text": [
      "                precision    recall  f1-score   support\n",
      "\n",
      "     CANDIDATE       0.00      0.00      0.00       419\n",
      "     CONFIRMED       0.00      0.00      0.00       444\n",
      "FALSE POSITIVE       0.51      1.00      0.67       885\n",
      "\n",
      "      accuracy                           0.51      1748\n",
      "     macro avg       0.17      0.33      0.22      1748\n",
      "  weighted avg       0.26      0.51      0.34      1748\n",
      "\n"
     ]
    },
    {
     "name": "stderr",
     "output_type": "stream",
     "text": [
      "C:\\Users\\10pai\\anaconda3\\lib\\site-packages\\sklearn\\metrics\\_classification.py:1221: UndefinedMetricWarning: Precision and F-score are ill-defined and being set to 0.0 in labels with no predicted samples. Use `zero_division` parameter to control this behavior.\n",
      "  _warn_prf(average, modifier, msg_start, len(result))\n"
     ]
    }
   ],
   "source": [
    "#Calculate classification report\n",
    "from sklearn.metrics import classification_report\n",
    "print(classification_report(y_test, predictions, target_names = y_names))"
   ]
  },
  {
   "cell_type": "markdown",
   "metadata": {},
   "source": [
    "# Save the Model"
   ]
  },
  {
   "cell_type": "code",
   "execution_count": null,
   "metadata": {},
   "outputs": [],
   "source": [
    "# # save your model by updating \"your_name\" with your name\n",
    "# # and \"your_model\" with your model variable\n",
    "# # be sure to turn this in to BCS\n",
    "# # if joblib fails to import, try running the command to install in terminal/git-bash\n",
    "# import joblib\n",
    "# filename = 'AJP.sav'\n",
    "# joblib.dump(SVC_model, filename)"
   ]
  }
 ],
 "metadata": {
  "kernel_info": {
   "name": "dev"
  },
  "kernelspec": {
   "display_name": "Python [conda env:root] *",
   "language": "python",
   "name": "conda-root-py"
  },
  "language_info": {
   "codemirror_mode": {
    "name": "ipython",
    "version": 3
   },
   "file_extension": ".py",
   "mimetype": "text/x-python",
   "name": "python",
   "nbconvert_exporter": "python",
   "pygments_lexer": "ipython3",
   "version": "3.8.5"
  },
  "nteract": {
   "version": "0.12.3"
  }
 },
 "nbformat": 4,
 "nbformat_minor": 2
}
